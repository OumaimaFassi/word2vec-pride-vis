{
 "metadata": {
  "name": "",
  "signature": "sha256:52d7a1567d446236cb5a454739078eab5a2935a92204f58ebe44226680a85f09"
 },
 "nbformat": 3,
 "nbformat_minor": 0,
 "worksheets": [
  {
   "cells": [
    {
     "cell_type": "code",
     "collapsed": false,
     "input": [
      "import json\n",
      "import gensim\n",
      "import matplotlib.pyplot as plt\n",
      "import numpy as np\n",
      "from pattern.en import parse\n",
      "from pattern.en import tag as ptag\n",
      "import string\n",
      "import tsne  # local copy in the repo"
     ],
     "language": "python",
     "metadata": {},
     "outputs": [],
     "prompt_number": 29
    },
    {
     "cell_type": "code",
     "collapsed": false,
     "input": [
      "%matplotlib inline"
     ],
     "language": "python",
     "metadata": {},
     "outputs": [],
     "prompt_number": 11
    },
    {
     "cell_type": "heading",
     "level": 3,
     "metadata": {},
     "source": [
      "The stuff for processing all the book files"
     ]
    },
    {
     "cell_type": "code",
     "collapsed": false,
     "input": [
      "sample_parsed = parse(\"He is a text sample showing you what happens when you use this function for her.\", \n",
      "   tokenize = True,         # Split punctuation marks from words?\n",
      "       tags = True,         # Parse part-of-speech tags? (NN, JJ, ...)\n",
      "     chunks = False,        # Parse chunks? (NP, VP, PNP, ...)\n",
      "  relations = False,         # Parse chunk relations? (-SBJ, -OBJ, ...)\n",
      "    lemmata = False,        # Parse lemmata? (ate => eat)\n",
      "   encoding = 'utf-8',      # Input string encoding.\n",
      "     tagset = None)"
     ],
     "language": "python",
     "metadata": {},
     "outputs": [],
     "prompt_number": 86
    },
    {
     "cell_type": "code",
     "collapsed": false,
     "input": [
      "# just showing you what it looks like\n",
      "sample_parsed"
     ],
     "language": "python",
     "metadata": {},
     "outputs": [
      {
       "metadata": {},
       "output_type": "pyout",
       "prompt_number": 87,
       "text": [
        "u'He/PRP is/VBZ a/DT text/NN sample/NN showing/VBG you/PRP what/WP happens/VBZ when/WRB you/PRP use/VB this/DT function/NN for/IN her/PRP ./.'"
       ]
      }
     ],
     "prompt_number": 87
    },
    {
     "cell_type": "code",
     "collapsed": false,
     "input": [
      "\"\"\" A bunch of functions that do text cleanup and create the strings of nouns for the model training.\"\"\"\n",
      "\n",
      "\n",
      "def tag_by_line(line, tags):\n",
      "    \"\"\" Look for only the words with those tags \"\"\"\n",
      "    words = []\n",
      "    #print ptag(line)\n",
      "    for word, foundtag in ptag(line):\n",
      "        if foundtag in tags:\n",
      "            words.append(word)\n",
      "    return words\n",
      "\n",
      "def cleanup(text):\n",
      "    \"\"\" This function cleans up the text a bit, and removes newlines. \"\"\"\n",
      "    data = text.decode('utf8')\n",
      "    data = data.replace('\\r', '')  # windows newline in some files\n",
      "    data = data.replace('\\n', ' ')  # turn newline into space\n",
      "    data = data.replace('_', '')\n",
      "    data = data.replace('--', ' -- ')\n",
      "    data = data.replace(',', ' ')\n",
      "    data = data.replace('.', ' ')\n",
      "    data = data.strip()  # strip remaining white space chars from edges\n",
      "    return data\n",
      "\n",
      "\n",
      "def cleanup_and_pos(text, pos=['NN']):\n",
      "    \"\"\" \n",
      "    Run the cleanup function, convert to a list of tag types, clean out misc stuff left.\n",
      "    Also converts back to a space sep string of the text we want in the model/output only\n",
      "    \"\"\"\n",
      "    # put your own list of strings here, based on reading outputs:\n",
      "    other_things_to_strip = ['s', '\\'s', 'n\\'t', '\\'ll', 'chapter', 'CHAPTER']\n",
      "    \n",
      "    data = cleanup(text)\n",
      "    words = tag_by_line(data, pos)   # returns a list of words of that POS (part of speech)\n",
      "    cleantext = [word.lower() for word in words if word not in string.punctuation]\n",
      "    cleantext = [word for word in cleantext if word not in other_things_to_strip]\n",
      "    newdata = ' '.join(cleantext)  # make it a single string, the model likes that\n",
      "    return newdata"
     ],
     "language": "python",
     "metadata": {},
     "outputs": [],
     "prompt_number": 59
    },
    {
     "cell_type": "code",
     "collapsed": false,
     "input": [
      "\"\"\"\n",
      "Model text generator - based on Radim's sample code for gensim\n",
      "This produces a line at a time of cleaned, tag-only text for the model to train from.\n",
      "\"\"\"\n",
      " \n",
      "import os\n",
      "import re\n",
      "\n",
      "class MySentences(object):\n",
      "    def __init__(self, dirname, tags=['NN']):\n",
      "        self.dirname = dirname\n",
      "        self.tags = tags\n",
      "    def __iter__(self):\n",
      "        for fname in os.listdir(self.dirname):\n",
      "            for line in open(os.path.join(self.dirname, fname)):\n",
      "                yield (cleanup_and_pos(line, pos=self.tags)).split()"
     ],
     "language": "python",
     "metadata": {},
     "outputs": [],
     "prompt_number": 60
    },
    {
     "cell_type": "code",
     "collapsed": false,
     "input": [
      "### updates datadict, uses model, tags, writes labeled txt file out\n",
      "\n",
      "def clean_dict_keys(datadict):\n",
      "    \"\"\" Removes words that make bad keys/nouns for the word swaps. \"\"\"\n",
      "    for key in datadict.keys():\n",
      "        if key == 'xi':\n",
      "            datadict.pop(key, None)\n",
      "        if ',' in key:\n",
      "            datadict.pop(key, None)\n",
      "            continue\n",
      "        if '--' in key:\n",
      "            datadict.pop(key, None)\n",
      "            continue\n",
      "        if 'xx' in key:\n",
      "            datadict.pop(key, None)\n",
      "            continue\n",
      "        if 'xv' in key:\n",
      "            datadict.pop(key, None)\n",
      "            continue\n",
      "        if '\\n' in key:\n",
      "            datadict.pop(key, None)\n",
      "            continue\n",
      "        if '.' in key:\n",
      "            datadict.pop(key, None)\n",
      "            continue\n",
      "    return datadict\n",
      "\n",
      "def cap_me(word, capflag):\n",
      "    \"\"\" Capitalizes the word if it was in the original text \"\"\"\n",
      "    if capflag:\n",
      "        return word.capitalize()\n",
      "    else:\n",
      "        return word\n",
      "\n",
      "def build_dict_write_file(model, outputtextfile, outputdatafile, tags=['NN']):\n",
      "    \"\"\" Writes out the labeled text with word swaps, returns datadict \"\"\"\n",
      "    \n",
      "    screen_outs = ['CHAPTER', 'chapter', 'Chapter', '', ',', 'xi']  # too common and not useful\n",
      "    datadict = {}\n",
      "    \n",
      "    print tags\n",
      "    \n",
      "    with open('books/austen_pride.txt', 'r') as handle:\n",
      "        lines = handle.read()\n",
      "        lines = lines.split('\\n\\r')\n",
      "        full_text = ''\n",
      "        for sample in lines:\n",
      "            new = sample.replace('\\n\\r',' ')\n",
      "            new = new.replace('_', '')\n",
      "            new = new.replace(',', ', ')\n",
      "            new = new.replace('--', ' -- ')\n",
      "            line = parse(new, \n",
      "               tokenize = True,     # Split punctuation marks from words?\n",
      "               tags = True,         # Parse part-of-speech tags? (NN, JJ, ...)\n",
      "             chunks = False,        # Parse chunks? (NP, VP, PNP, ...)\n",
      "          relations = False,        # Parse chunk relations? (-SBJ, -OBJ, ...)\n",
      "            lemmata = False,        # Parse lemmata? (ate => eat)\n",
      "           encoding = 'utf-8',      # Input string encoding.\n",
      "             tagset = None)\n",
      "            line = line.replace('\\n', ' ')\n",
      "            sample_spaced = line.split(' ')\n",
      "            line_text = '<p>'\n",
      "            for word in sample_spaced:\n",
      "                capFlag = False\n",
      "                newWord = word\n",
      "                word = word.replace('\\n', ' ')\n",
      "                if word.strip() == '':\n",
      "                    continue\n",
      "                bits = word.split('/')\n",
      "                if len(bits) == 2:\n",
      "                    if bits[1] in tags and bits[0] not in screen_outs:\n",
      "                        if bits[0][0] in \"ABCDEFGHIJKLMNOPQRSTUVWXYZ\":  # check for first cap\n",
      "                            capFlag = True\n",
      "                        \n",
      "                        try:\n",
      "                            # best match for original word\n",
      "                            best = model.most_similar(positive=[bits[0].lower()], negative=[], topn=1)   # (word, score)\n",
      "                            if best[0][0].strip() in screen_outs:\n",
      "                                raise 'WordError'\n",
      "                            # add original word to datadict, with best match as word for it\n",
      "                            datadict[bits[0].lower().encode('utf8')] = {\"word\": best[0][0].lower(), \"score\": \"%.3f\" % best[0][1]}\n",
      "                            # add the reverse word to the same dict, for graphing in front end\n",
      "                            best_reverse = model.most_similar(positive=[best[0][0]], negative=[], topn=1)\n",
      "                            if best_reverse[0][0] in screen_outs:\n",
      "                                raise 'WordError'\n",
      "                            datadict[best[0][0].lower().encode('utf8')] = {\"word\": best_reverse[0][0].lower(), \"score\": \"%.3f\" % best_reverse[0][1]}\n",
      "                            newWord = '<span class=\"color\" title=\"Was: <span class=\\'purple\\'>'\\\n",
      "                                    + bits[0] + '</span> / Word2Vec similarity: ' + str(round(best[0][1],3))\\\n",
      "                                    + '\" formerWord=\"' + bits[0] + '\" newWord=\"' + best[0][0] + '\" score=\"'\\\n",
      "                                    + str(round(best[0][1],3)) + '\">' + cap_me(best[0][0],capFlag) + '</span>'\n",
      "                            line_text += newWord\n",
      "                        except Exception, e:  # on model errors etc, just continue past it\n",
      "                            print e\n",
      "                            line_text += word.replace('/NN', '')\n",
      "                            pass\n",
      "                    \n",
      "                    else:\n",
      "                        if bits[0] in [',',':','.','\"',';','?', '!', '\\'s', '\\'ll', 'n\\'t']:\n",
      "                            line_text = line_text.strip() # remove spaces before these\n",
      "                        line_text += bits[0]\n",
      "                    if line_text[-1] != '\"':  # no space after quotes; hacky.\n",
      "                        line_text += ' '\n",
      "                else:\n",
      "                    if word.strip() != '':\n",
      "                        line_text += word.strip()\n",
      "            full_text += line_text + '\\n'\n",
      "\n",
      "    datadict = clean_dict_keys(datadict)\n",
      "    \n",
      "    with open(outputtextfile, 'w') as handle:\n",
      "        handle.write(full_text.encode('utf8'))\n",
      "    jsonfile = json.dumps(datadict)\n",
      "    with open(outputdatafile, 'w') as handle:\n",
      "        handle.write(jsonfile)\n",
      "\n",
      "    print \"Wrote out to data directory:\", outputtextfile, outputdatafile\n",
      "    return datadict"
     ],
     "language": "python",
     "metadata": {},
     "outputs": [],
     "prompt_number": 167
    },
    {
     "cell_type": "code",
     "collapsed": false,
     "input": [
      "# The wrapper function that runs everything, writes files, and returns useful things.\n",
      "def run_all(tags=['NN'], filepref='data/pride_NN'):\n",
      "    \n",
      "    # notice here i require at least 2 uses of each word in the corpus - reduces noise\n",
      "    #model = gensim.models.Word2Vec(MySentences('books', tags=tags), min_count=2, size=200, workers=2)\n",
      "    model = gensim.models.Word2Vec(DirOfPlainTextCorpus('books'), min_count=5, workers=2)\n",
      "    model.save(filepref + '_model_austen_allwords')\n",
      "    \n",
      "    # if you want to save time and use a saved file, comment out the above and uncomment this with right path\n",
      "    #model = gensim.models.Word2Vec.load('data/pride_NNPRP_model_austen_all')\n",
      "    \n",
      "    # does the text tagging and word replacement\n",
      "    print tags\n",
      "    datadict = build_dict_write_file(model, filepref + '_labeled.txt', filepref + '_data.json', tags=tags)\n",
      "    \n",
      "    # tsne input files part\n",
      "    make_score_files(model, datadict, filepref)\n",
      "    \n",
      "    # the actual tsne graph bit\n",
      "    X = np.loadtxt(filepref + \"_scores.csv\")\n",
      "    labels = np.genfromtxt(filepref + \"_words.csv\", dtype=str)\n",
      "    Y = tsne.tsne(X, 2, 50, 20.0)   # see tsne.py in repo\n",
      "    do_tsne_files(filepref + '_coords.tsv', Y, labels, datadict, axis_off=True)\n",
      "    \n",
      "    return Y, labels, datadict, model"
     ],
     "language": "python",
     "metadata": {},
     "outputs": [],
     "prompt_number": 223
    },
    {
     "cell_type": "code",
     "collapsed": true,
     "input": [
      "# run it all together and get the useful outputs - this takes a while and prints a lot of stuff.\n",
      "Y, labels, datadict, model = run_all(tags=['NN'], filepref='data/pride_NNAll')"
     ],
     "language": "python",
     "metadata": {},
     "outputs": [
      {
       "output_type": "stream",
       "stream": "stdout",
       "text": [
        "['NN']\n",
        "['NN']\n",
        "exceptions must be old-style classes or derived from BaseException, not str"
       ]
      },
      {
       "output_type": "stream",
       "stream": "stdout",
       "text": [
        "\n",
        "u\"word 'three-and-twenty' not in vocabulary\""
       ]
      },
      {
       "output_type": "stream",
       "stream": "stdout",
       "text": [
        "\n",
        "u\"word 'solace' not in vocabulary\"\n",
        "u\"word 'circumspection' not in vocabulary\""
       ]
      },
      {
       "output_type": "stream",
       "stream": "stdout",
       "text": [
        "\n",
        "u\"word 'stress' not in vocabulary\""
       ]
      },
      {
       "output_type": "stream",
       "stream": "stdout",
       "text": [
        "\n",
        "exceptions must be old-style classes or derived from BaseException, not str\n",
        "u\"word 'ascertaining' not in vocabulary\""
       ]
      },
      {
       "output_type": "stream",
       "stream": "stdout",
       "text": [
        "\n",
        "u\"word 'brother-in-law' not in vocabulary\""
       ]
      },
      {
       "output_type": "stream",
       "stream": "stdout",
       "text": [
        "\n",
        "u\"word 'mien' not in vocabulary\"\n",
        "u\"word 'circulation' not in vocabulary\"\n",
        "u\"word 'tide' not in vocabulary\"\n",
        "exceptions must be old-style classes or derived from BaseException, not str"
       ]
      },
      {
       "output_type": "stream",
       "stream": "stdout",
       "text": [
        "\n",
        "u\"word 'scarcity' not in vocabulary\""
       ]
      },
      {
       "output_type": "stream",
       "stream": "stdout",
       "text": [
        "\n",
        "u\"word 'ankle' not in vocabulary\""
       ]
      },
      {
       "output_type": "stream",
       "stream": "stdout",
       "text": [
        "\n",
        "u\"word 'exaggeration' not in vocabulary\"\n",
        "u\"word 'stupider' not in vocabulary\""
       ]
      },
      {
       "output_type": "stream",
       "stream": "stdout",
       "text": [
        "\n",
        "u\"word 'ostentation' not in vocabulary\""
       ]
      },
      {
       "output_type": "stream",
       "stream": "stdout",
       "text": [
        "\n",
        "u\"word 'pliancy' not in vocabulary\""
       ]
      },
      {
       "output_type": "stream",
       "stream": "stdout",
       "text": [
        "\n",
        "u\"word 'manor' not in vocabulary\""
       ]
      },
      {
       "output_type": "stream",
       "stream": "stdout",
       "text": [
        "\n",
        "u\"word 'easiness' not in vocabulary\"\n",
        "u\"word 'half-an-hour' not in vocabulary\""
       ]
      },
      {
       "output_type": "stream",
       "stream": "stdout",
       "text": [
        "\n",
        "u\"word 'easiness' not in vocabulary\""
       ]
      },
      {
       "output_type": "stream",
       "stream": "stdout",
       "text": [
        "\n",
        "u\"word 'ductility' not in vocabulary\"\n",
        "u\"word 'offense' not in vocabulary\""
       ]
      },
      {
       "output_type": "stream",
       "stream": "stdout",
       "text": [
        "\n",
        "u\"word 'stiffness' not in vocabulary\""
       ]
      },
      {
       "output_type": "stream",
       "stream": "stdout",
       "text": [
        "\n",
        "u\"word 'knighthood' not in vocabulary\""
       ]
      },
      {
       "output_type": "stream",
       "stream": "stdout",
       "text": [
        "\n",
        "u\"word 'mayoralty' not in vocabulary\"\n",
        "u\"word 'inoffensive' not in vocabulary\""
       ]
      },
      {
       "output_type": "stream",
       "stream": "stdout",
       "text": [
        "\n",
        "u\"word 'self-command' not in vocabulary\""
       ]
      },
      {
       "output_type": "stream",
       "stream": "stdout",
       "text": [
        "\n",
        "u\"word 'ill-treatment' not in vocabulary\""
       ]
      },
      {
       "output_type": "stream",
       "stream": "stdout",
       "text": [
        "\n",
        "u\"word 'half-an-hour' not in vocabulary\"\n",
        "u\"word 'ma'am' not in vocabulary\"\n",
        "u\"word 'hack' not in vocabulary\""
       ]
      },
      {
       "output_type": "stream",
       "stream": "stdout",
       "text": [
        "\n",
        "u\"word 'ma'am' not in vocabulary\"\n",
        "u\"word 'solidity' not in vocabulary\""
       ]
      },
      {
       "output_type": "stream",
       "stream": "stdout",
       "text": [
        "\n",
        "u\"word 'self-complacency' not in vocabulary\"\n",
        "u\"word 'pack' not in vocabulary\"\n",
        "u\"word 'superciliousness' not in vocabulary\""
       ]
      },
      {
       "output_type": "stream",
       "stream": "stdout",
       "text": [
        "\n",
        "u\"word 'half-hour' not in vocabulary\""
       ]
      },
      {
       "output_type": "stream",
       "stream": "stdout",
       "text": [
        "\n",
        "u\"word 'reasonableness' not in vocabulary\""
       ]
      },
      {
       "output_type": "stream",
       "stream": "stdout",
       "text": [
        "\n",
        "u\"word 'symmetry' not in vocabulary\""
       ]
      },
      {
       "output_type": "stream",
       "stream": "stdout",
       "text": [
        "\n",
        "u\"word 's' not in vocabulary\""
       ]
      },
      {
       "output_type": "stream",
       "stream": "stdout",
       "text": [
        "\n",
        "exceptions must be old-style classes or derived from BaseException, not str"
       ]
      },
      {
       "output_type": "stream",
       "stream": "stdout",
       "text": [
        "\n",
        "u\"word 'porridge' not in vocabulary\""
       ]
      },
      {
       "output_type": "stream",
       "stream": "stdout",
       "text": [
        "\n",
        "u\"word 'concerto' not in vocabulary\""
       ]
      },
      {
       "output_type": "stream",
       "stream": "stdout",
       "text": [
        "\n",
        "u\"word 'exclusion' not in vocabulary\"\n",
        "u\"word 'vogue' not in vocabulary\""
       ]
      },
      {
       "output_type": "stream",
       "stream": "stdout",
       "text": [
        "\n",
        "u\"word 'science' not in vocabulary\"\n",
        "exceptions must be old-style classes or derived from BaseException, not str"
       ]
      },
      {
       "output_type": "stream",
       "stream": "stdout",
       "text": [
        "\n",
        "u\"word 'discomposure' not in vocabulary\"\n",
        "u\"word 'half-hour' not in vocabulary\""
       ]
      },
      {
       "output_type": "stream",
       "stream": "stdout",
       "text": [
        "\n",
        "u\"word 'nothingness' not in vocabulary\""
       ]
      },
      {
       "output_type": "stream",
       "stream": "stdout",
       "text": [
        "\n",
        "u\"word 'self-importance' not in vocabulary\"\n",
        "exceptions must be old-style classes or derived from BaseException, not str\n",
        "u\"word 'intrepidity' not in vocabulary\""
       ]
      },
      {
       "output_type": "stream",
       "stream": "stdout",
       "text": [
        "\n",
        "exceptions must be old-style classes or derived from BaseException, not str\n",
        "u\"word 'mother-in-law' not in vocabulary\""
       ]
      },
      {
       "output_type": "stream",
       "stream": "stdout",
       "text": [
        "\n",
        "u\"word 'default' not in vocabulary\""
       ]
      },
      {
       "output_type": "stream",
       "stream": "stdout",
       "text": [
        "\n",
        "u\"word 'male' not in vocabulary\"\n",
        "u\"word 'clerk' not in vocabulary\"\n",
        "u\"word 'milliner' not in vocabulary\""
       ]
      },
      {
       "output_type": "stream",
       "stream": "stdout",
       "text": [
        "\n",
        "u\"word 'ensign' not in vocabulary\""
       ]
      },
      {
       "output_type": "stream",
       "stream": "stdout",
       "text": [
        "\n",
        "u\"word 'to-day' not in vocabulary\""
       ]
      },
      {
       "output_type": "stream",
       "stream": "stdout",
       "text": [
        "\n",
        "u\"word 'tete-a-tete' not in vocabulary\"\n",
        "u\"word 'to-day' not in vocabulary\""
       ]
      },
      {
       "output_type": "stream",
       "stream": "stdout",
       "text": [
        "\n",
        "u\"word 'horsewoman' not in vocabulary\""
       ]
      },
      {
       "output_type": "stream",
       "stream": "stdout",
       "text": [
        "\n",
        "u\"word 'breakfast-parlour' not in vocabulary\""
       ]
      },
      {
       "output_type": "stream",
       "stream": "stdout",
       "text": [
        "\n",
        "u\"word 'draughts' not in vocabulary\""
       ]
      },
      {
       "output_type": "stream",
       "stream": "stdout",
       "text": [
        "\n",
        "u\"word 's' not in vocabulary\""
       ]
      },
      {
       "output_type": "stream",
       "stream": "stdout",
       "text": [
        "\n",
        "u\"word 'intruder' not in vocabulary\""
       ]
      },
      {
       "output_type": "stream",
       "stream": "stdout",
       "text": [
        "\n",
        "u\"word 'ragout' not in vocabulary\"\n",
        "u\"word 'mud' not in vocabulary\""
       ]
      },
      {
       "output_type": "stream",
       "stream": "stdout",
       "text": [
        "\n",
        "u\"word 'jot' not in vocabulary\""
       ]
      },
      {
       "output_type": "stream",
       "stream": "stdout",
       "text": [
        "\n",
        "u\"word 'dining-parlour' not in vocabulary\""
       ]
      },
      {
       "output_type": "stream",
       "stream": "stdout",
       "text": [
        "\n",
        "u\"word 'drawing-room' not in vocabulary\"\n",
        "u\"word 'loo' not in vocabulary\"\n",
        "u\"word 'imitation' not in vocabulary\""
       ]
      },
      {
       "output_type": "stream",
       "stream": "stdout",
       "text": [
        "\n",
        "u\"word 'paint' not in vocabulary\""
       ]
      },
      {
       "output_type": "stream",
       "stream": "stdout",
       "text": [
        "\n",
        "u\"word 'cover' not in vocabulary\"\n",
        "u\"word 'net' not in vocabulary\"\n",
        "exceptions must be old-style classes or derived from BaseException, not str\n",
        "u\"word 'half-a-dozen' not in vocabulary\"\n",
        "u\"word 'device' not in vocabulary\""
       ]
      },
      {
       "output_type": "stream",
       "stream": "stdout",
       "text": [
        "\n",
        "u\"word 'art.' not in vocabulary\"\n",
        "u\"word 'captivation' not in vocabulary\"\n",
        "u\"word 'affinity' not in vocabulary\"\n",
        "exceptions must be old-style classes or derived from BaseException, not str"
       ]
      },
      {
       "output_type": "stream",
       "stream": "stdout",
       "text": [
        "\n",
        "u\"word 'restoration' not in vocabulary\""
       ]
      },
      {
       "output_type": "stream",
       "stream": "stdout",
       "text": [
        "\n",
        "u\"word 'lease' not in vocabulary\""
       ]
      },
      {
       "output_type": "stream",
       "stream": "stdout",
       "text": [
        "\n",
        "u\"word 'studier' not in vocabulary\""
       ]
      },
      {
       "output_type": "stream",
       "stream": "stdout",
       "text": [
        "\n",
        "u\"word 'victory' not in vocabulary\""
       ]
      },
      {
       "output_type": "stream",
       "stream": "stdout",
       "text": [
        "\n",
        "u\"word 'four-and-twenty' not in vocabulary\""
       ]
      },
      {
       "output_type": "stream",
       "stream": "stdout",
       "text": [
        "\n",
        "u\"word 'sister-in-law' not in vocabulary\""
       ]
      },
      {
       "output_type": "stream",
       "stream": "stdout",
       "text": [
        "\n",
        "u\"word 'sonnet' not in vocabulary\""
       ]
      },
      {
       "output_type": "stream",
       "stream": "stdout",
       "text": [
        "\n",
        "u\"word 'signal' not in vocabulary\""
       ]
      },
      {
       "output_type": "stream",
       "stream": "stdout",
       "text": [
        "\n",
        "u\"word 'self-consequence' not in vocabulary\""
       ]
      },
      {
       "output_type": "stream",
       "stream": "stdout",
       "text": [
        "\n",
        "u\"word 'drawing-room' not in vocabulary\""
       ]
      },
      {
       "output_type": "stream",
       "stream": "stdout",
       "text": [
        "\n",
        "u\"word 'piquet' not in vocabulary\"\n",
        "exceptions must be old-style classes or derived from BaseException, not str\n",
        "u\"word 'evenness' not in vocabulary\"\n",
        "u\"word 's.' not in vocabulary\""
       ]
      },
      {
       "output_type": "stream",
       "stream": "stdout",
       "text": [
        "\n",
        "u\"word 'possessor' not in vocabulary\""
       ]
      },
      {
       "output_type": "stream",
       "stream": "stdout",
       "text": [
        "\n",
        "u\"word 'panegyric' not in vocabulary\"\n",
        "u\"word 'precipitance' not in vocabulary\"\n",
        "u\"word 'precipitance' not in vocabulary\""
       ]
      },
      {
       "output_type": "stream",
       "stream": "stdout",
       "text": [
        "\n",
        "u\"word 'celerity' not in vocabulary\"\n",
        "u\"word 'rashness' not in vocabulary\""
       ]
      },
      {
       "output_type": "stream",
       "stream": "stdout",
       "text": [
        "\n",
        "u\"word 'requester' not in vocabulary\""
       ]
      },
      {
       "output_type": "stream",
       "stream": "stdout",
       "text": [
        "\n",
        "u\"word 'precision' not in vocabulary\""
       ]
      },
      {
       "output_type": "stream",
       "stream": "stdout",
       "text": [
        "\n",
        "u\"word 'expostulation' not in vocabulary\""
       ]
      },
      {
       "output_type": "stream",
       "stream": "stdout",
       "text": [
        "\n",
        "u\"word 'reel' not in vocabulary\""
       ]
      },
      {
       "output_type": "stream",
       "stream": "stdout",
       "text": [
        "\n",
        "u\"word 'reel' not in vocabulary\""
       ]
      },
      {
       "output_type": "stream",
       "stream": "stdout",
       "text": [
        "\n",
        "u\"word 'archness' not in vocabulary\"\n",
        "u\"word 'mother-in-law' not in vocabulary\""
       ]
      },
      {
       "output_type": "stream",
       "stream": "stdout",
       "text": [
        "\n",
        "u\"word 'compass' not in vocabulary\"\n",
        "exceptions must be old-style classes or derived from BaseException, not str\n",
        "u\"word 'great-uncle' not in vocabulary\""
       ]
      },
      {
       "output_type": "stream",
       "stream": "stdout",
       "text": [
        "\n",
        "u\"word 'drawing-room' not in vocabulary\""
       ]
      },
      {
       "output_type": "stream",
       "stream": "stdout",
       "text": [
        "\n",
        "u\"word 'accuracy' not in vocabulary\"\n",
        "u\"word 'anecdote' not in vocabulary\"\n",
        "u\"word 'half-hour' not in vocabulary\""
       ]
      },
      {
       "output_type": "stream",
       "stream": "stdout",
       "text": [
        "\n",
        "u\"word 'sister-in-law' not in vocabulary\""
       ]
      },
      {
       "output_type": "stream",
       "stream": "stdout",
       "text": [
        "\n",
        "u\"word 'petition' not in vocabulary\"\n",
        "u\"word 'yawn' not in vocabulary\""
       ]
      },
      {
       "output_type": "stream",
       "stream": "stdout",
       "text": [
        "\n",
        "u\"word 'desperation' not in vocabulary\""
       ]
      },
      {
       "output_type": "stream",
       "stream": "stdout",
       "text": [
        "\n",
        "u\"word 'hug' not in vocabulary\""
       ]
      },
      {
       "output_type": "stream",
       "stream": "stdout",
       "text": [
        "\n",
        "u\"word 'regulation' not in vocabulary\""
       ]
      },
      {
       "output_type": "stream",
       "stream": "stdout",
       "text": [
        "\n",
        "u\"word 'pretension' not in vocabulary\""
       ]
      },
      {
       "output_type": "stream",
       "stream": "stdout",
       "text": [
        "\n",
        "u\"word 'postscript' not in vocabulary\""
       ]
      },
      {
       "output_type": "stream",
       "stream": "stdout",
       "text": [
        "\n",
        "u\"word 'half-an-hour' not in vocabulary\""
       ]
      },
      {
       "output_type": "stream",
       "stream": "stdout",
       "text": [
        "\n",
        "u\"word 'thorough-bass' not in vocabulary\""
       ]
      },
      {
       "output_type": "stream",
       "stream": "stdout",
       "text": [
        "\n",
        "u\"word 'to-day' not in vocabulary\"\n",
        "u\"word 'to-day' not in vocabulary\""
       ]
      },
      {
       "output_type": "stream",
       "stream": "stdout",
       "text": [
        "\n",
        "u\"word 'rail' not in vocabulary\""
       ]
      },
      {
       "output_type": "stream",
       "stream": "stdout",
       "text": [
        "\n",
        "u\"word 'subsisting' not in vocabulary\""
       ]
      },
      {
       "output_type": "stream",
       "stream": "stdout",
       "text": [
        "\n",
        "u\"word 'variance' not in vocabulary\"\n",
        "u\"word 'bounty' not in vocabulary\"\n",
        "u\"word 'beneficence' not in vocabulary\"\n",
        "u\"word 'rectory' not in vocabulary\"\n",
        "u\"word 'olive-branch' not in vocabulary\""
       ]
      },
      {
       "output_type": "stream",
       "stream": "stdout",
       "text": [
        "\n",
        "u\"word 'trespass' not in vocabulary\"\n",
        "u\"word 'se'ennight' not in vocabulary\"\n",
        "exceptions must be old-style classes or derived from BaseException, not str"
       ]
      },
      {
       "output_type": "stream",
       "stream": "stdout",
       "text": [
        "\n",
        "u\"word 'well-wisher' not in vocabulary\"\n",
        "u\"word 'christening' not in vocabulary\""
       ]
      },
      {
       "output_type": "stream",
       "stream": "stdout",
       "text": [
        "\n",
        "u\"word 'oddity' not in vocabulary\"\n",
        "u\"word 'servility' not in vocabulary\"\n",
        "u\"word 'self-importance' not in vocabulary\"\n",
        "u\"word 'dining-room' not in vocabulary\""
       ]
      },
      {
       "output_type": "stream",
       "stream": "stdout",
       "text": [
        "\n",
        "u\"word 'excellency' not in vocabulary\"\n",
        "u\"word 'cooking' not in vocabulary\"\n",
        "u\"word 'asperity' not in vocabulary\"\n",
        "u\"word 'pool' not in vocabulary\""
       ]
      },
      {
       "output_type": "stream",
       "stream": "stdout",
       "text": [
        "\n",
        "u\"word 'heiress' not in vocabulary\""
       ]
      },
      {
       "output_type": "stream",
       "stream": "stdout",
       "text": [
        "\n",
        "exceptions must be old-style classes or derived from BaseException, not str\n",
        "exceptions must be old-style classes or derived from BaseException, not str"
       ]
      },
      {
       "output_type": "stream",
       "stream": "stdout",
       "text": [
        "\n",
        "exceptions must be old-style classes or derived from BaseException, not str\n",
        "exceptions must be old-style classes or derived from BaseException, not str\n",
        "u\"word 'duchess' not in vocabulary\""
       ]
      },
      {
       "output_type": "stream",
       "stream": "stdout",
       "text": [
        "\n",
        "u\"word 'tea-time' not in vocabulary\""
       ]
      },
      {
       "output_type": "stream",
       "stream": "stdout",
       "text": [
        "\n",
        "u\"word 'dose' not in vocabulary\"\n",
        "u\"word 'drawing-room' not in vocabulary\"\n",
        "u\"word 'antagonist' not in vocabulary\""
       ]
      },
      {
       "output_type": "stream",
       "stream": "stdout",
       "text": [
        "\n",
        "u\"word 'challenge' not in vocabulary\"\n",
        "u\"word 'ill-will' not in vocabulary\"\n",
        "u\"word 'self-conceit' not in vocabulary\""
       ]
      },
      {
       "output_type": "stream",
       "stream": "stdout",
       "text": [
        "\n",
        "u\"word 'veneration' not in vocabulary\"\n",
        "u\"word 'rector' not in vocabulary\"\n",
        "u\"word 'obsequiousness' not in vocabulary\""
       ]
      },
      {
       "output_type": "stream",
       "stream": "stdout",
       "text": [
        "\n",
        "u\"word 'self-importance' not in vocabulary\"\n",
        "u\"word 'suitableness' not in vocabulary\""
       ]
      },
      {
       "output_type": "stream",
       "stream": "stdout",
       "text": [
        "\n",
        "u\"word 'seniority' not in vocabulary\""
       ]
      },
      {
       "output_type": "stream",
       "stream": "stdout",
       "text": [
        "\n",
        "u\"word 'tete-a-tete' not in vocabulary\"\n",
        "u\"word 'cessation' not in vocabulary\""
       ]
      },
      {
       "output_type": "stream",
       "stream": "stdout",
       "text": [
        "\n",
        "exceptions must be old-style classes or derived from BaseException, not str"
       ]
      },
      {
       "output_type": "stream",
       "stream": "stdout",
       "text": [
        "\n",
        "u\"word 'pretense' not in vocabulary\"\n",
        "u\"word 'spokesman' not in vocabulary\""
       ]
      },
      {
       "output_type": "stream",
       "stream": "stdout",
       "text": [
        "\n",
        "u\"word 'shop-boy' not in vocabulary\""
       ]
      },
      {
       "output_type": "stream",
       "stream": "stdout",
       "text": [
        "\n",
        "u\"word 'draughts' not in vocabulary\"\n",
        "u\"word 'lottery' not in vocabulary\""
       ]
      },
      {
       "output_type": "stream",
       "stream": "stdout",
       "text": [
        "\n",
        "u\"word 'drawing-room' not in vocabulary\""
       ]
      },
      {
       "output_type": "stream",
       "stream": "stdout",
       "text": [
        "\n",
        "u\"word 'chimney-piece' not in vocabulary\""
       ]
      },
      {
       "output_type": "stream",
       "stream": "stdout",
       "text": [
        "\n",
        "u\"word 'muffin' not in vocabulary\""
       ]
      },
      {
       "output_type": "stream",
       "stream": "stdout",
       "text": [
        "\n",
        "u\"word 'lottery' not in vocabulary\""
       ]
      },
      {
       "output_type": "stream",
       "stream": "stdout",
       "text": [
        "\n",
        "u\"word 'annum' not in vocabulary\""
       ]
      },
      {
       "output_type": "stream",
       "stream": "stdout",
       "text": [
        "\n",
        "u\"word 'ill-usage' not in vocabulary\""
       ]
      },
      {
       "output_type": "stream",
       "stream": "stdout",
       "text": [
        "\n",
        "u\"word 'godfather' not in vocabulary\""
       ]
      },
      {
       "output_type": "stream",
       "stream": "stdout",
       "text": [
        "\n",
        "u\"word 'informality' not in vocabulary\""
       ]
      },
      {
       "output_type": "stream",
       "stream": "stdout",
       "text": [
        "\n",
        "u\"word 'bequest' not in vocabulary\"\n",
        "u\"word 'competition' not in vocabulary\""
       ]
      },
      {
       "output_type": "stream",
       "stream": "stdout",
       "text": [
        "\n",
        "u\"word 'fellow-creatures' not in vocabulary\"\n",
        "u\"word 'inhumanity' not in vocabulary\"\n",
        "u\"word 'implacability' not in vocabulary\"\n",
        "u\"word 'godson' not in vocabulary\""
       ]
      },
      {
       "output_type": "stream",
       "stream": "stdout",
       "text": [
        "\n",
        "u\"word 'childhood' not in vocabulary\"\n",
        "u\"word 'superintendence' not in vocabulary\""
       ]
      },
      {
       "output_type": "stream",
       "stream": "stdout",
       "text": [
        "\n",
        "u\"word 'dishonesty' not in vocabulary\"\n",
        "u\"word 'guardian' not in vocabulary\""
       ]
      },
      {
       "output_type": "stream",
       "stream": "stdout",
       "text": [
        "\n",
        "exceptions must be old-style classes or derived from BaseException, not str"
       ]
      },
      {
       "output_type": "stream",
       "stream": "stdout",
       "text": [
        "\n",
        "u\"word 'lottery' not in vocabulary\""
       ]
      },
      {
       "output_type": "stream",
       "stream": "stdout",
       "text": [
        "\n",
        "u\"word 'veracity' not in vocabulary\""
       ]
      },
      {
       "output_type": "stream",
       "stream": "stdout",
       "text": [
        "\n",
        "u\"word 'recreation' not in vocabulary\""
       ]
      },
      {
       "output_type": "stream",
       "stream": "stdout",
       "text": [
        "\n",
        "u\"word 'proxy' not in vocabulary\""
       ]
      },
      {
       "output_type": "stream",
       "stream": "stdout",
       "text": [
        "\n",
        "u\"word 'drawing-room' not in vocabulary\""
       ]
      },
      {
       "output_type": "stream",
       "stream": "stdout",
       "text": [
        "\n",
        "u\"word 'cluster' not in vocabulary\"\n",
        "u\"word 'ill-humour' not in vocabulary\""
       ]
      },
      {
       "output_type": "stream",
       "stream": "stdout",
       "text": [
        "\n",
        "u\"word 'unsocial' not in vocabulary\""
       ]
      },
      {
       "output_type": "stream",
       "stream": "stdout",
       "text": [
        "\n",
        "u\"word 'taciturn' not in vocabulary\"\n",
        "u\"word 'posterity' not in vocabulary\"\n",
        "u\"word 'proverb' not in vocabulary\"\n",
        "u\"word 'hauteur' not in vocabulary\""
       ]
      },
      {
       "output_type": "stream",
       "stream": "stdout",
       "text": [
        "\n",
        "exceptions must be old-style classes or derived from BaseException, not str"
       ]
      },
      {
       "output_type": "stream",
       "stream": "stdout",
       "text": [
        "\n",
        "u\"word 'ball-room' not in vocabulary\""
       ]
      },
      {
       "output_type": "stream",
       "stream": "stdout",
       "text": [
        "\n",
        "u\"word 'sneer' not in vocabulary\""
       ]
      },
      {
       "output_type": "stream",
       "stream": "stdout",
       "text": [
        "\n",
        "u\"word 's' not in vocabulary\""
       ]
      },
      {
       "output_type": "stream",
       "stream": "stdout",
       "text": [
        "\n",
        "u\"word 'probity' not in vocabulary\"\n",
        "u\"word 's' not in vocabulary\""
       ]
      },
      {
       "output_type": "stream",
       "stream": "stdout",
       "text": [
        "\n",
        "u\"word 'defense' not in vocabulary\""
       ]
      },
      {
       "output_type": "stream",
       "stream": "stdout",
       "text": [
        "\n",
        "exceptions must be old-style classes or derived from BaseException, not str"
       ]
      },
      {
       "output_type": "stream",
       "stream": "stdout",
       "text": [
        "\n",
        "u\"word 'se'nnight' not in vocabulary\""
       ]
      },
      {
       "output_type": "stream",
       "stream": "stdout",
       "text": [
        "\n",
        "u\"word 'scope' not in vocabulary\""
       ]
      },
      {
       "output_type": "stream",
       "stream": "stdout",
       "text": [
        "\n",
        "u\"word 'laity' not in vocabulary\"\n",
        "exceptions must be old-style classes or derived from BaseException, not str"
       ]
      },
      {
       "output_type": "stream",
       "stream": "stdout",
       "text": [
        "\n",
        "u\"word 'self-gratulation' not in vocabulary\""
       ]
      },
      {
       "output_type": "stream",
       "stream": "stdout",
       "text": [
        "\n",
        "u\"word 'etiquette' not in vocabulary\"\n",
        "u\"word 'ham' not in vocabulary\""
       ]
      },
      {
       "output_type": "stream",
       "stream": "stdout",
       "text": [
        "\n",
        "u\"word 'chicken' not in vocabulary\"\n",
        "u\"word 'stanzas' not in vocabulary\""
       ]
      },
      {
       "output_type": "stream",
       "stream": "stdout",
       "text": [
        "\n",
        "u\"word 'derision' not in vocabulary\"\n",
        "u\"word 'diversion' not in vocabulary\""
       ]
      },
      {
       "output_type": "stream",
       "stream": "stdout",
       "text": [
        "\n",
        "u\"word 'rector' not in vocabulary\"\n",
        "u\"word 'half-whisper' not in vocabulary\""
       ]
      },
      {
       "output_type": "stream",
       "stream": "stdout",
       "text": [
        "\n",
        "exceptions must be old-style classes or derived from BaseException, not str"
       ]
      },
      {
       "output_type": "stream",
       "stream": "stdout",
       "text": [
        "\n",
        "u\"word 'offense' not in vocabulary\"\n",
        "u\"word 'manoeuvre' not in vocabulary\""
       ]
      },
      {
       "output_type": "stream",
       "stream": "stdout",
       "text": [
        "\n",
        "u\"word 'yawn' not in vocabulary\""
       ]
      },
      {
       "output_type": "stream",
       "stream": "stdout",
       "text": [
        "\n",
        "u\"word 'diversion' not in vocabulary\""
       ]
      },
      {
       "output_type": "stream",
       "stream": "stdout",
       "text": [
        "\n",
        "u\"word 'disservice' not in vocabulary\"\n",
        "exceptions must be old-style classes or derived from BaseException, not str"
       ]
      },
      {
       "output_type": "stream",
       "stream": "stdout",
       "text": [
        "\n",
        "u\"word 'footstool' not in vocabulary\"\n",
        "u\"word 'wave' not in vocabulary\""
       ]
      },
      {
       "output_type": "stream",
       "stream": "stdout",
       "text": [
        "\n",
        "u\"word 'qualification' not in vocabulary\""
       ]
      },
      {
       "output_type": "stream",
       "stream": "stdout",
       "text": [
        "\n",
        "u\"word 'self-reproach' not in vocabulary\""
       ]
      },
      {
       "output_type": "stream",
       "stream": "stdout",
       "text": [
        "\n",
        "u\"word 'manifold' not in vocabulary\""
       ]
      },
      {
       "output_type": "stream",
       "stream": "stdout",
       "text": [
        "\n",
        "u\"word 'self-deception' not in vocabulary\""
       ]
      },
      {
       "output_type": "stream",
       "stream": "stdout",
       "text": [
        "\n",
        "u\"word 'coquetry' not in vocabulary\"\n",
        "u\"word 'breakfast-room' not in vocabulary\""
       ]
      },
      {
       "output_type": "stream",
       "stream": "stdout",
       "text": [
        "\n",
        "u\"word 'uproar' not in vocabulary\""
       ]
      },
      {
       "output_type": "stream",
       "stream": "stdout",
       "text": [
        "\n",
        "u\"word 'breakfast-room' not in vocabulary\""
       ]
      },
      {
       "output_type": "stream",
       "stream": "stdout",
       "text": [
        "\n",
        "u\"word 'dismission' not in vocabulary\""
       ]
      },
      {
       "output_type": "stream",
       "stream": "stdout",
       "text": [
        "\n",
        "u\"word 'stiffness' not in vocabulary\""
       ]
      },
      {
       "output_type": "stream",
       "stream": "stdout",
       "text": [
        "\n",
        "u\"word 'abatement' not in vocabulary\"\n",
        "u\"word 'ill-humour' not in vocabulary\"\n",
        "u\"word 'envelope' not in vocabulary\""
       ]
      },
      {
       "output_type": "stream",
       "stream": "stdout",
       "text": [
        "\n",
        "exceptions must be old-style classes or derived from BaseException, not str\n",
        "u\"word 'intermarriage' not in vocabulary\""
       ]
      },
      {
       "output_type": "stream",
       "stream": "stdout",
       "text": [
        "\n",
        "u\"word 'mature' not in vocabulary\""
       ]
      },
      {
       "output_type": "stream",
       "stream": "stdout",
       "text": [
        "\n",
        "u\"word 'conception' not in vocabulary\""
       ]
      },
      {
       "output_type": "stream",
       "stream": "stdout",
       "text": [
        "\n",
        "u\"word 'slyness' not in vocabulary\"\n",
        "exceptions must be old-style classes or derived from BaseException, not str"
       ]
      },
      {
       "output_type": "stream",
       "stream": "stdout",
       "text": [
        "\n",
        "u\"word 's.' not in vocabulary\""
       ]
      },
      {
       "output_type": "stream",
       "stream": "stdout",
       "text": [
        "\n",
        "u\"word 'self-denial' not in vocabulary\""
       ]
      },
      {
       "output_type": "stream",
       "stream": "stdout",
       "text": [
        "\n",
        "u\"word 'leave-taking' not in vocabulary\""
       ]
      },
      {
       "output_type": "stream",
       "stream": "stdout",
       "text": [
        "\n",
        "u\"word 'solidity' not in vocabulary\""
       ]
      },
      {
       "output_type": "stream",
       "stream": "stdout",
       "text": [
        "\n",
        "u\"word 'strangeness' not in vocabulary\""
       ]
      },
      {
       "output_type": "stream",
       "stream": "stdout",
       "text": [
        "\n",
        "u\"word 'self-gratulation' not in vocabulary\""
       ]
      },
      {
       "output_type": "stream",
       "stream": "stdout",
       "text": [
        "\n",
        "u\"word 'courtier' not in vocabulary\"\n",
        "u\"word 'retort' not in vocabulary\""
       ]
      },
      {
       "output_type": "stream",
       "stream": "stdout",
       "text": [
        "\n",
        "u\"word 'rectitude' not in vocabulary\""
       ]
      },
      {
       "output_type": "stream",
       "stream": "stdout",
       "text": [
        "\n",
        "u\"word 'stability' not in vocabulary\""
       ]
      },
      {
       "output_type": "stream",
       "stream": "stdout",
       "text": [
        "\n",
        "u\"word 's' not in vocabulary\"\n",
        "u\"word 'love-making' not in vocabulary\""
       ]
      },
      {
       "output_type": "stream",
       "stream": "stdout",
       "text": [
        "\n",
        "u\"word 'successor' not in vocabulary\""
       ]
      },
      {
       "output_type": "stream",
       "stream": "stdout",
       "text": [
        "\n",
        "u\"word 'survivor' not in vocabulary\""
       ]
      },
      {
       "output_type": "stream",
       "stream": "stdout",
       "text": [
        "\n",
        "u\"word 'inmate' not in vocabulary\""
       ]
      },
      {
       "output_type": "stream",
       "stream": "stdout",
       "text": [
        "\n",
        "u\"word 'easiness' not in vocabulary\""
       ]
      },
      {
       "output_type": "stream",
       "stream": "stdout",
       "text": [
        "\n",
        "u\"word 'disinterestedness' not in vocabulary\""
       ]
      },
      {
       "output_type": "stream",
       "stream": "stdout",
       "text": [
        "\n",
        "u\"word 'good-will' not in vocabulary\""
       ]
      },
      {
       "output_type": "stream",
       "stream": "stdout",
       "text": [
        "\n",
        "u\"word 'conjunction' not in vocabulary\""
       ]
      },
      {
       "output_type": "stream",
       "stream": "stdout",
       "text": [
        "\n",
        "u\"word 's.' not in vocabulary\""
       ]
      },
      {
       "output_type": "stream",
       "stream": "stdout",
       "text": [
        "\n",
        "u\"word 'half-hour' not in vocabulary\""
       ]
      },
      {
       "output_type": "stream",
       "stream": "stdout",
       "text": [
        "\n",
        "u\"word 'essence' not in vocabulary\"\n",
        "u\"word 'custody' not in vocabulary\""
       ]
      },
      {
       "output_type": "stream",
       "stream": "stdout",
       "text": [
        "\n",
        "u\"word 'ablution' not in vocabulary\"\n",
        "u\"word 'possessor' not in vocabulary\""
       ]
      },
      {
       "output_type": "stream",
       "stream": "stdout",
       "text": [
        "\n",
        "u\"word 'lad' not in vocabulary\"\n",
        "u\"word 'fellow-creatures' not in vocabulary\""
       ]
      },
      {
       "output_type": "stream",
       "stream": "stdout",
       "text": [
        "\n",
        "u\"word 'bridegroom' not in vocabulary\""
       ]
      },
      {
       "output_type": "stream",
       "stream": "stdout",
       "text": [
        "\n",
        "u\"word 'triumphing' not in vocabulary\""
       ]
      },
      {
       "output_type": "stream",
       "stream": "stdout",
       "text": [
        "\n",
        "u\"word 'meantime' not in vocabulary\"\n",
        "u\"word 'duplicity' not in vocabulary\""
       ]
      },
      {
       "output_type": "stream",
       "stream": "stdout",
       "text": [
        "\n",
        "exceptions must be old-style classes or derived from BaseException, not str"
       ]
      },
      {
       "output_type": "stream",
       "stream": "stdout",
       "text": [
        "\n",
        "u\"word 's' not in vocabulary\"\n",
        "u\"word 'defection' not in vocabulary\""
       ]
      },
      {
       "output_type": "stream",
       "stream": "stdout",
       "text": [
        "\n",
        "u\"word 'peep' not in vocabulary\""
       ]
      },
      {
       "output_type": "stream",
       "stream": "stdout",
       "text": [
        "\n",
        "u\"word 'knighthood' not in vocabulary\""
       ]
      },
      {
       "output_type": "stream",
       "stream": "stdout",
       "text": [
        "\n",
        "u\"word 'drawing-room' not in vocabulary\""
       ]
      },
      {
       "output_type": "stream",
       "stream": "stdout",
       "text": [
        "\n",
        "u\"word 'troop' not in vocabulary\"\n",
        "u\"word 'drawing-room' not in vocabulary\"\n",
        "u\"word 'shopping' not in vocabulary\"\n",
        "u\"word 'desertion' not in vocabulary\""
       ]
      },
      {
       "output_type": "stream",
       "stream": "stdout",
       "text": [
        "\n",
        "u\"word 'grandfather' not in vocabulary\""
       ]
      },
      {
       "output_type": "stream",
       "stream": "stdout",
       "text": [
        "\n",
        "u\"word 'spleen' not in vocabulary\""
       ]
      },
      {
       "output_type": "stream",
       "stream": "stdout",
       "text": [
        "\n",
        "u\"word 'transport' not in vocabulary\"\n",
        "u\"word 'boundary' not in vocabulary\""
       ]
      },
      {
       "output_type": "stream",
       "stream": "stdout",
       "text": [
        "\n",
        "u\"word 'laurel' not in vocabulary\""
       ]
      },
      {
       "output_type": "stream",
       "stream": "stdout",
       "text": [
        "\n",
        "u\"word 'unseldom' not in vocabulary\""
       ]
      },
      {
       "output_type": "stream",
       "stream": "stdout",
       "text": [
        "\n",
        "u\"word 'sideboard' not in vocabulary\"\n",
        "u\"word 'fender' not in vocabulary\"\n",
        "u\"word 'cultivation' not in vocabulary\"\n",
        "u\"word 'healthfulness' not in vocabulary\"\n",
        "u\"word 'minuteness' not in vocabulary\""
       ]
      },
      {
       "output_type": "stream",
       "stream": "stdout",
       "text": [
        "\n",
        "u\"word 'clump' not in vocabulary\"\n",
        "u\"word 'consistency' not in vocabulary\""
       ]
      },
      {
       "output_type": "stream",
       "stream": "stdout",
       "text": [
        "\n",
        "u\"word 'guiding' not in vocabulary\""
       ]
      },
      {
       "output_type": "stream",
       "stream": "stdout",
       "text": [
        "\n",
        "u\"word 'tenor' not in vocabulary\"\n",
        "u\"word 'dining-room' not in vocabulary\""
       ]
      },
      {
       "output_type": "stream",
       "stream": "stdout",
       "text": [
        "\n",
        "u\"word 'dining-room' not in vocabulary\"\n",
        "exceptions must be old-style classes or derived from BaseException, not str"
       ]
      },
      {
       "output_type": "stream",
       "stream": "stdout",
       "text": [
        "\n",
        "u\"word 'diversion' not in vocabulary\""
       ]
      },
      {
       "output_type": "stream",
       "stream": "stdout",
       "text": [
        "\n",
        "u\"word 'doorway' not in vocabulary\"\n",
        "u\"word 'toilette' not in vocabulary\""
       ]
      },
      {
       "output_type": "stream",
       "stream": "stdout",
       "text": [
        "\n",
        "u\"word 'apparel' not in vocabulary\"\n",
        "u\"word 's.' not in vocabulary\""
       ]
      },
      {
       "output_type": "stream",
       "stream": "stdout",
       "text": [
        "\n",
        "u\"word 'enumeration' not in vocabulary\"\n",
        "u\"word 'stateliness' not in vocabulary\""
       ]
      },
      {
       "output_type": "stream",
       "stream": "stdout",
       "text": [
        "\n",
        "u\"word 'trepidation' not in vocabulary\"\n",
        "u\"word 'entrance-hall' not in vocabulary\"\n",
        "u\"word 'ante-chamber' not in vocabulary\"\n",
        "u\"word 'self-importance' not in vocabulary\""
       ]
      },
      {
       "output_type": "stream",
       "stream": "stdout",
       "text": [
        "\n",
        "u\"word 'deportment' not in vocabulary\"\n",
        "u\"word 'son-in-law' not in vocabulary\""
       ]
      },
      {
       "output_type": "stream",
       "stream": "stdout",
       "text": [
        "\n",
        "u\"word 'dinner-time' not in vocabulary\"\n",
        "u\"word 'drawing-room' not in vocabulary\""
       ]
      },
      {
       "output_type": "stream",
       "stream": "stdout",
       "text": [
        "\n",
        "exceptions must be old-style classes or derived from BaseException, not str\n",
        "u\"word 'ma'am' not in vocabulary\""
       ]
      },
      {
       "output_type": "stream",
       "stream": "stdout",
       "text": [
        "\n",
        "u\"word 'ma'am' not in vocabulary\""
       ]
      },
      {
       "output_type": "stream",
       "stream": "stdout",
       "text": [
        "\n",
        "u\"word 'last-born' not in vocabulary\"\n",
        "u\"word 'one-and-twenty' not in vocabulary\""
       ]
      },
      {
       "output_type": "stream",
       "stream": "stdout",
       "text": [
        "\n",
        "u\"word 'cassino' not in vocabulary\""
       ]
      },
      {
       "output_type": "stream",
       "stream": "stdout",
       "text": [
        "\n",
        "u\"word 'anecdote' not in vocabulary\"\n",
        "u\"word 'thankfulness' not in vocabulary\""
       ]
      },
      {
       "output_type": "stream",
       "stream": "stdout",
       "text": [
        "\n",
        "u\"word 'book-room' not in vocabulary\""
       ]
      },
      {
       "output_type": "stream",
       "stream": "stdout",
       "text": [
        "\n",
        "u\"word 'dining-parlour' not in vocabulary\"\n",
        "u\"word 'drawing-room' not in vocabulary\"\n",
        "exceptions must be old-style classes or derived from BaseException, not str"
       ]
      },
      {
       "output_type": "stream",
       "stream": "stdout",
       "text": [
        "\n",
        "u\"word 'magistrate' not in vocabulary\"\n",
        "u\"word 'card-table' not in vocabulary\""
       ]
      },
      {
       "output_type": "stream",
       "stream": "stdout",
       "text": [
        "\n",
        "u\"word 'counterpart' not in vocabulary\"\n",
        "u\"word 'door-bell' not in vocabulary\""
       ]
      },
      {
       "output_type": "stream",
       "stream": "stdout",
       "text": [
        "\n",
        "u\"word 'drawing-room' not in vocabulary\""
       ]
      },
      {
       "output_type": "stream",
       "stream": "stdout",
       "text": [
        "\n",
        "u\"word 'proficiency' not in vocabulary\""
       ]
      },
      {
       "output_type": "stream",
       "stream": "stdout",
       "text": [
        "\n",
        "u\"word 'ill-breeding' not in vocabulary\""
       ]
      },
      {
       "output_type": "stream",
       "stream": "stdout",
       "text": [
        "\n",
        "u\"word 'performer' not in vocabulary\""
       ]
      },
      {
       "output_type": "stream",
       "stream": "stdout",
       "text": [
        "\n",
        "u\"word 'stubbornness' not in vocabulary\"\n",
        "exceptions must be old-style classes or derived from BaseException, not str"
       ]
      },
      {
       "output_type": "stream",
       "stream": "stdout",
       "text": [
        "\n",
        "exceptions must be old-style classes or derived from BaseException, not str\n",
        "u\"word 'ball-room' not in vocabulary\""
       ]
      },
      {
       "output_type": "stream",
       "stream": "stdout",
       "text": [
        "\n",
        "u\"word 's.' not in vocabulary\""
       ]
      },
      {
       "output_type": "stream",
       "stream": "stdout",
       "text": [
        "\n",
        "u\"word 'performer' not in vocabulary\"\n",
        "u\"word 'signal' not in vocabulary\""
       ]
      },
      {
       "output_type": "stream",
       "stream": "stdout",
       "text": [
        "\n",
        "u\"word 'emergence' not in vocabulary\""
       ]
      },
      {
       "output_type": "stream",
       "stream": "stdout",
       "text": [
        "\n",
        "u\"word 'tete-a-tete' not in vocabulary\""
       ]
      },
      {
       "output_type": "stream",
       "stream": "stdout",
       "text": [
        "\n",
        "u\"word 'nearness' not in vocabulary\""
       ]
      },
      {
       "output_type": "stream",
       "stream": "stdout",
       "text": [
        "\n",
        "u\"word 'mischance' not in vocabulary\""
       ]
      },
      {
       "output_type": "stream",
       "stream": "stdout",
       "text": [
        "\n",
        "u\"word 'haunt' not in vocabulary\"\n",
        "u\"word 'ill-nature' not in vocabulary\"\n",
        "u\"word 'rencontre' not in vocabulary\"\n",
        "u\"word 'earl' not in vocabulary\""
       ]
      },
      {
       "output_type": "stream",
       "stream": "stdout",
       "text": [
        "\n",
        "u\"word 'self-denial' not in vocabulary\"\n",
        "u\"word 'earl' not in vocabulary\""
       ]
      },
      {
       "output_type": "stream",
       "stream": "stdout",
       "text": [
        "\n",
        "u\"word 's.' not in vocabulary\""
       ]
      },
      {
       "output_type": "stream",
       "stream": "stdout",
       "text": [
        "\n",
        "u\"word 'drily' not in vocabulary\"\n",
        "exceptions must be old-style classes or derived from BaseException, not str"
       ]
      },
      {
       "output_type": "stream",
       "stream": "stdout",
       "text": [
        "\n",
        "exceptions must be old-style classes or derived from BaseException, not str"
       ]
      },
      {
       "output_type": "stream",
       "stream": "stdout",
       "text": [
        "\n",
        "exceptions must be old-style classes or derived from BaseException, not str"
       ]
      },
      {
       "output_type": "stream",
       "stream": "stdout",
       "text": [
        "\n",
        "u\"word 'door-bell' not in vocabulary\""
       ]
      },
      {
       "output_type": "stream",
       "stream": "stdout",
       "text": [
        "\n",
        "u\"word 'instability' not in vocabulary\""
       ]
      },
      {
       "output_type": "stream",
       "stream": "stdout",
       "text": [
        "\n",
        "u\"word 'derision' not in vocabulary\"\n",
        "u\"word 'misrepresentation' not in vocabulary\""
       ]
      },
      {
       "output_type": "stream",
       "stream": "stdout",
       "text": [
        "\n",
        "u\"word 'infliction' not in vocabulary\""
       ]
      },
      {
       "output_type": "stream",
       "stream": "stdout",
       "text": [
        "\n",
        "u\"word 'policy' not in vocabulary\""
       ]
      },
      {
       "output_type": "stream",
       "stream": "stdout",
       "text": [
        "\n",
        "u\"word 'groundwork' not in vocabulary\""
       ]
      },
      {
       "output_type": "stream",
       "stream": "stdout",
       "text": [
        "\n",
        "u\"word 'half-an-hour' not in vocabulary\""
       ]
      },
      {
       "output_type": "stream",
       "stream": "stdout",
       "text": [
        "\n",
        "u\"word 'turnpike-road' not in vocabulary\""
       ]
      },
      {
       "output_type": "stream",
       "stream": "stdout",
       "text": [
        "\n",
        "u\"word 'boundary' not in vocabulary\"\n",
        "u\"word 'envelope' not in vocabulary\""
       ]
      },
      {
       "output_type": "stream",
       "stream": "stdout",
       "text": [
        "\n",
        "u\"word 'envelope' not in vocabulary\"\n",
        "u\"word 'paining' not in vocabulary\"\n",
        "u\"word 'formation' not in vocabulary\""
       ]
      },
      {
       "output_type": "stream",
       "stream": "stdout",
       "text": [
        "\n",
        "u\"word 'magnitude' not in vocabulary\""
       ]
      },
      {
       "output_type": "stream",
       "stream": "stdout",
       "text": [
        "\n",
        "u\"word 'depravity' not in vocabulary\"\n",
        "u\"word 'scrutiny' not in vocabulary\""
       ]
      },
      {
       "output_type": "stream",
       "stream": "stdout",
       "text": [
        "\n",
        "u\"word 'repugnance' not in vocabulary\""
       ]
      },
      {
       "output_type": "stream",
       "stream": "stdout",
       "text": [
        "\n",
        "u\"word 'coincidence' not in vocabulary\""
       ]
      },
      {
       "output_type": "stream",
       "stream": "stdout",
       "text": [
        "\n",
        "u\"word 'veracity' not in vocabulary\""
       ]
      },
      {
       "output_type": "stream",
       "stream": "stdout",
       "text": [
        "\n",
        "u\"word 'godson' not in vocabulary\""
       ]
      },
      {
       "output_type": "stream",
       "stream": "stdout",
       "text": [
        "\n",
        "u\"word 'legacy' not in vocabulary\""
       ]
      },
      {
       "output_type": "stream",
       "stream": "stdout",
       "text": [
        "\n",
        "u\"word 'lieu' not in vocabulary\"\n",
        "u\"word 'dissipation' not in vocabulary\""
       ]
      },
      {
       "output_type": "stream",
       "stream": "stdout",
       "text": [
        "\n",
        "u\"word 'junior' not in vocabulary\""
       ]
      },
      {
       "output_type": "stream",
       "stream": "stdout",
       "text": [
        "\n",
        "exceptions must be old-style classes or derived from BaseException, not str\n",
        "u\"word 'connivance' not in vocabulary\"\n",
        "u\"word 'narrative' not in vocabulary\""
       ]
      },
      {
       "output_type": "stream",
       "stream": "stdout",
       "text": [
        "\n",
        "u\"word 'contrariety' not in vocabulary\""
       ]
      },
      {
       "output_type": "stream",
       "stream": "stdout",
       "text": [
        "\n",
        "u\"word 'penitent' not in vocabulary\""
       ]
      },
      {
       "output_type": "stream",
       "stream": "stdout",
       "text": [
        "\n",
        "u\"word 'affinity' not in vocabulary\""
       ]
      },
      {
       "output_type": "stream",
       "stream": "stdout",
       "text": [
        "\n",
        "u\"word 'duplicity' not in vocabulary\""
       ]
      },
      {
       "output_type": "stream",
       "stream": "stdout",
       "text": [
        "\n",
        "u\"word 'lieu' not in vocabulary\"\n",
        "u\"word 'profligacy' not in vocabulary\""
       ]
      },
      {
       "output_type": "stream",
       "stream": "stdout",
       "text": [
        "\n",
        "u\"word 'trait' not in vocabulary\""
       ]
      },
      {
       "output_type": "stream",
       "stream": "stdout",
       "text": [
        "\n",
        "u\"word 'predominance' not in vocabulary\"\n",
        "u\"word 'mess' not in vocabulary\""
       ]
      },
      {
       "output_type": "stream",
       "stream": "stdout",
       "text": [
        "\n",
        "u\"word 'corroboration' not in vocabulary\""
       ]
      },
      {
       "output_type": "stream",
       "stream": "stdout",
       "text": [
        "\n",
        "u\"word 's.' not in vocabulary\""
       ]
      },
      {
       "output_type": "stream",
       "stream": "stdout",
       "text": [
        "\n",
        "u\"word 'mediocrity' not in vocabulary\""
       ]
      },
      {
       "output_type": "stream",
       "stream": "stdout",
       "text": [
        "\n",
        "u\"word 'blamelessness' not in vocabulary\"\n",
        "u\"word 'violation' not in vocabulary\""
       ]
      },
      {
       "output_type": "stream",
       "stream": "stdout",
       "text": [
        "\n",
        "u\"word 'mistrust' not in vocabulary\""
       ]
      },
      {
       "output_type": "stream",
       "stream": "stdout",
       "text": [
        "\n",
        "u\"word 'obeisance' not in vocabulary\""
       ]
      },
      {
       "output_type": "stream",
       "stream": "stdout",
       "text": [
        "\n",
        "u\"word 'accounting' not in vocabulary\""
       ]
      },
      {
       "output_type": "stream",
       "stream": "stdout",
       "text": [
        "\n",
        "u\"word 'barouche-box' not in vocabulary\""
       ]
      },
      {
       "output_type": "stream",
       "stream": "stdout",
       "text": [
        "\n",
        "u\"word 'man-servant' not in vocabulary\""
       ]
      },
      {
       "output_type": "stream",
       "stream": "stdout",
       "text": [
        "\n",
        "u\"word 'chagrin' not in vocabulary\""
       ]
      },
      {
       "output_type": "stream",
       "stream": "stdout",
       "text": [
        "\n",
        "u\"word 'giddiness' not in vocabulary\"\n",
        "u\"word 'implicitness' not in vocabulary\""
       ]
      },
      {
       "output_type": "stream",
       "stream": "stdout",
       "text": [
        "\n",
        "u\"word 'indecorum' not in vocabulary\"\n",
        "u\"word 'packing' not in vocabulary\""
       ]
      },
      {
       "output_type": "stream",
       "stream": "stdout",
       "text": [
        "\n",
        "exceptions must be old-style classes or derived from BaseException, not str"
       ]
      },
      {
       "output_type": "stream",
       "stream": "stdout",
       "text": [
        "\n",
        "exceptions must be old-style classes or derived from BaseException, not str"
       ]
      },
      {
       "output_type": "stream",
       "stream": "stdout",
       "text": [
        "\n",
        "u\"word 'commissioning' not in vocabulary\""
       ]
      },
      {
       "output_type": "stream",
       "stream": "stdout",
       "text": [
        "\n",
        "u\"word 'dining-room' not in vocabulary\""
       ]
      },
      {
       "output_type": "stream",
       "stream": "stdout",
       "text": [
        "\n",
        "u\"word 'milliner' not in vocabulary\"\n",
        "u\"word 'sentinel' not in vocabulary\"\n",
        "u\"word 'salad' not in vocabulary\"\n",
        "u\"word 'cucumber' not in vocabulary\"\n",
        "u\"word 'larder' not in vocabulary\""
       ]
      },
      {
       "output_type": "stream",
       "stream": "stdout",
       "text": [
        "\n",
        "u\"word 'campful' not in vocabulary\""
       ]
      },
      {
       "output_type": "stream",
       "stream": "stdout",
       "text": [
        "\n",
        "u\"word 'chin' not in vocabulary\""
       ]
      },
      {
       "output_type": "stream",
       "stream": "stdout",
       "text": [
        "\n",
        "u\"word 'coarseness' not in vocabulary\""
       ]
      },
      {
       "output_type": "stream",
       "stream": "stdout",
       "text": [
        "\n",
        "u\"word 'coarseness' not in vocabulary\"\n",
        "u\"word 'bandbox' not in vocabulary\""
       ]
      },
      {
       "output_type": "stream",
       "stream": "stdout",
       "text": [
        "\n",
        "u\"word 'three-and-twenty' not in vocabulary\"\n",
        "u\"word 'three-and-twenty' not in vocabulary\"\n",
        "u\"word 'chaperon' not in vocabulary\"\n",
        "u\"word 's.' not in vocabulary\"\n",
        "exceptions must be old-style classes or derived from BaseException, not str"
       ]
      },
      {
       "output_type": "stream",
       "stream": "stdout",
       "text": [
        "\n",
        "u\"word 'dining-room' not in vocabulary\""
       ]
      },
      {
       "output_type": "stream",
       "stream": "stdout",
       "text": [
        "\n",
        "u\"word 's' not in vocabulary\"\n",
        "u\"word 'luncheon' not in vocabulary\""
       ]
      },
      {
       "output_type": "stream",
       "stream": "stdout",
       "text": [
        "\n",
        "u\"word 'race' not in vocabulary\""
       ]
      },
      {
       "output_type": "stream",
       "stream": "stdout",
       "text": [
        "\n",
        "u\"word 'mankind' not in vocabulary\"\n",
        "u\"word 's' not in vocabulary\""
       ]
      },
      {
       "output_type": "stream",
       "stream": "stdout",
       "text": [
        "\n",
        "u\"word 'feather' not in vocabulary\""
       ]
      },
      {
       "output_type": "stream",
       "stream": "stdout",
       "text": [
        "\n",
        "u\"word 'mismanagement' not in vocabulary\""
       ]
      },
      {
       "output_type": "stream",
       "stream": "stdout",
       "text": [
        "\n",
        "u\"word 'spur' not in vocabulary\"\n",
        "u\"word 'hard-heartedness' not in vocabulary\""
       ]
      },
      {
       "output_type": "stream",
       "stream": "stdout",
       "text": [
        "\n",
        "u\"word 'woe' not in vocabulary\"\n",
        "u\"word 'sea-bathing' not in vocabulary\""
       ]
      },
      {
       "output_type": "stream",
       "stream": "stdout",
       "text": [
        "\n",
        "u\"word 'adoration' not in vocabulary\""
       ]
      },
      {
       "output_type": "stream",
       "stream": "stdout",
       "text": [
        "\n",
        "u\"word 'luckless' not in vocabulary\"\n",
        "u\"word 'volatility' not in vocabulary\""
       ]
      },
      {
       "output_type": "stream",
       "stream": "stdout",
       "text": [
        "\n",
        "u\"word 'emptiness' not in vocabulary\""
       ]
      },
      {
       "output_type": "stream",
       "stream": "stdout",
       "text": [
        "\n",
        "u\"word 'prey' not in vocabulary\""
       ]
      },
      {
       "output_type": "stream",
       "stream": "stdout",
       "text": [
        "\n",
        "u\"word 'volubility' not in vocabulary\""
       ]
      },
      {
       "output_type": "stream",
       "stream": "stdout",
       "text": [
        "\n",
        "u\"word 'bathing-place' not in vocabulary\"\n",
        "u\"word 'camp' not in vocabulary\"\n",
        "u\"word 'uniformity' not in vocabulary\"\n",
        "u\"word 'tent' not in vocabulary\""
       ]
      },
      {
       "output_type": "stream",
       "stream": "stdout",
       "text": [
        "\n",
        "u\"word 's.' not in vocabulary\""
       ]
      },
      {
       "output_type": "stream",
       "stream": "stdout",
       "text": [
        "\n",
        "u\"word 'gayer' not in vocabulary\"\n",
        "u\"word 'aught' not in vocabulary\"\n",
        "u\"word 'cautiousness' not in vocabulary\""
       ]
      },
      {
       "output_type": "stream",
       "stream": "stdout",
       "text": [
        "\n",
        "u\"word 'philosopher' not in vocabulary\""
       ]
      },
      {
       "output_type": "stream",
       "stream": "stdout",
       "text": [
        "\n",
        "u\"word 'dullness' not in vocabulary\""
       ]
      },
      {
       "output_type": "stream",
       "stream": "stdout",
       "text": [
        "\n",
        "u\"word 'watering-place' not in vocabulary\"\n",
        "u\"word 'camp' not in vocabulary\"\n",
        "u\"word 'commencement' not in vocabulary\""
       ]
      },
      {
       "output_type": "stream",
       "stream": "stdout",
       "text": [
        "\n",
        "u\"word 'discontentedness' not in vocabulary\"\n",
        "u\"word 'parasol' not in vocabulary\""
       ]
      },
      {
       "output_type": "stream",
       "stream": "stdout",
       "text": [
        "\n",
        "u\"word 'camp' not in vocabulary\"\n",
        "u\"word 'commencement' not in vocabulary\""
       ]
      },
      {
       "output_type": "stream",
       "stream": "stdout",
       "text": [
        "\n",
        "u\"word 'impunity' not in vocabulary\""
       ]
      },
      {
       "output_type": "stream",
       "stream": "stdout",
       "text": [
        "\n",
        "u\"word 'suitableness' not in vocabulary\""
       ]
      },
      {
       "output_type": "stream",
       "stream": "stdout",
       "text": [
        "\n",
        "u\"word 'suitableness' not in vocabulary\"\n",
        "u\"word 'etc.' not in vocabulary\""
       ]
      },
      {
       "output_type": "stream",
       "stream": "stdout",
       "text": [
        "\n",
        "u\"word 'resource' not in vocabulary\""
       ]
      },
      {
       "output_type": "stream",
       "stream": "stdout",
       "text": [
        "\n",
        "u\"word 'chambermaid' not in vocabulary\"\n",
        "u\"word 'half-a-mile' not in vocabulary\""
       ]
      },
      {
       "output_type": "stream",
       "stream": "stdout",
       "text": [
        "\n",
        "u\"word 'eminence' not in vocabulary\"\n",
        "u\"word 'ridge' not in vocabulary\"\n",
        "u\"word 'chambermaid' not in vocabulary\""
       ]
      },
      {
       "output_type": "stream",
       "stream": "stdout",
       "text": [
        "\n",
        "u\"word 'dining-parlour' not in vocabulary\""
       ]
      },
      {
       "output_type": "stream",
       "stream": "stdout",
       "text": [
        "\n",
        "exceptions must be old-style classes or derived from BaseException, not str"
       ]
      },
      {
       "output_type": "stream",
       "stream": "stdout",
       "text": [
        "\n",
        "u\"word 'ma'am' not in vocabulary\"\n",
        "exceptions must be old-style classes or derived from BaseException, not str"
       ]
      },
      {
       "output_type": "stream",
       "stream": "stdout",
       "text": [
        "\n",
        "u\"word 'communicativeness' not in vocabulary\"\n",
        "u\"word 'ma'am' not in vocabulary\""
       ]
      },
      {
       "output_type": "stream",
       "stream": "stdout",
       "text": [
        "\n",
        "u\"word 'sitting-room' not in vocabulary\""
       ]
      },
      {
       "output_type": "stream",
       "stream": "stdout",
       "text": [
        "\n",
        "u\"word 'lightness' not in vocabulary\"\n",
        "u\"word 'picture-gallery' not in vocabulary\""
       ]
      },
      {
       "output_type": "stream",
       "stream": "stdout",
       "text": [
        "\n",
        "u\"word 's' not in vocabulary\"\n",
        "u\"word 'lifetime' not in vocabulary\""
       ]
      },
      {
       "output_type": "stream",
       "stream": "stdout",
       "text": [
        "\n",
        "u\"word 'canvas' not in vocabulary\""
       ]
      },
      {
       "output_type": "stream",
       "stream": "stdout",
       "text": [
        "\n",
        "u\"word 'hall-door' not in vocabulary\"\n",
        "u\"word 'sedateness' not in vocabulary\""
       ]
      },
      {
       "output_type": "stream",
       "stream": "stdout",
       "text": [
        "\n",
        "u\"word 'distraction' not in vocabulary\"\n",
        "u\"word 'discrimination' not in vocabulary\""
       ]
      },
      {
       "output_type": "stream",
       "stream": "stdout",
       "text": [
        "\n",
        "u\"word 'circuit' not in vocabulary\""
       ]
      },
      {
       "output_type": "stream",
       "stream": "stdout",
       "text": [
        "\n",
        "u\"word 'glen' not in vocabulary\"\n",
        "u\"word 'coppice-wood' not in vocabulary\"\n",
        "u\"word 'trout' not in vocabulary\""
       ]
      },
      {
       "output_type": "stream",
       "stream": "stdout",
       "text": [
        "\n",
        "u\"word 'decamping' not in vocabulary\""
       ]
      },
      {
       "output_type": "stream",
       "stream": "stdout",
       "text": [
        "\n",
        "u\"word 'tackle' not in vocabulary\""
       ]
      },
      {
       "output_type": "stream",
       "stream": "stdout",
       "text": [
        "\n",
        "u\"word 'arm-in-arm' not in vocabulary\"\n",
        "u\"word 'brink' not in vocabulary\""
       ]
      },
      {
       "output_type": "stream",
       "stream": "stdout",
       "text": [
        "\n",
        "u\"word 'water-plant' not in vocabulary\"\n",
        "u\"word 's.' not in vocabulary\"\n",
        "exceptions must be old-style classes or derived from BaseException, not str\n",
        "u\"word 'embargo' not in vocabulary\""
       ]
      },
      {
       "output_type": "stream",
       "stream": "stdout",
       "text": [
        "\n",
        "u\"word 'dove' not in vocabulary\"\n",
        "u\"word 'tete-a-tete' not in vocabulary\"\n",
        "exceptions must be old-style classes or derived from BaseException, not str"
       ]
      },
      {
       "output_type": "stream",
       "stream": "stdout",
       "text": [
        "\n",
        "u\"word 'discontinuance' not in vocabulary\""
       ]
      },
      {
       "output_type": "stream",
       "stream": "stdout",
       "text": [
        "\n",
        "exceptions must be old-style classes or derived from BaseException, not str"
       ]
      },
      {
       "output_type": "stream",
       "stream": "stdout",
       "text": [
        "\n",
        "u\"word 'accounting' not in vocabulary\""
       ]
      },
      {
       "output_type": "stream",
       "stream": "stdout",
       "text": [
        "\n",
        "u\"word 'newly-born' not in vocabulary\"\n",
        "u\"word 'discomposure' not in vocabulary\"\n",
        "u\"word 'disquiet' not in vocabulary\"\n",
        "u\"word 'monosyllable' not in vocabulary\""
       ]
      },
      {
       "output_type": "stream",
       "stream": "stdout",
       "text": [
        "\n",
        "u\"word 'scale' not in vocabulary\"\n",
        "u\"word 'personage' not in vocabulary\""
       ]
      },
      {
       "output_type": "stream",
       "stream": "stdout",
       "text": [
        "\n",
        "exceptions must be old-style classes or derived from BaseException, not str\n",
        "u\"word 'interpretation' not in vocabulary\""
       ]
      },
      {
       "output_type": "stream",
       "stream": "stdout",
       "text": [
        "\n",
        "u\"word 'hauteur' not in vocabulary\""
       ]
      },
      {
       "output_type": "stream",
       "stream": "stdout",
       "text": [
        "\n",
        "u\"word 'self-consequence' not in vocabulary\"\n",
        "u\"word 'half-an-hour' not in vocabulary\""
       ]
      },
      {
       "output_type": "stream",
       "stream": "stdout",
       "text": [
        "\n",
        "u\"word 'avoidance' not in vocabulary\"\n",
        "u\"word 'half-hour' not in vocabulary\""
       ]
      },
      {
       "output_type": "stream",
       "stream": "stdout",
       "text": [
        "\n",
        "u\"word 'market-town' not in vocabulary\""
       ]
      },
      {
       "output_type": "stream",
       "stream": "stdout",
       "text": [
        "\n",
        "u\"word 'hatred' not in vocabulary\""
       ]
      },
      {
       "output_type": "stream",
       "stream": "stdout",
       "text": [
        "\n",
        "u\"word 'petulance' not in vocabulary\"\n",
        "u\"word 'acrimony' not in vocabulary\"\n",
        "u\"word 'peculiarity' not in vocabulary\""
       ]
      },
      {
       "output_type": "stream",
       "stream": "stdout",
       "text": [
        "\n",
        "exceptions must be old-style classes or derived from BaseException, not str"
       ]
      },
      {
       "output_type": "stream",
       "stream": "stdout",
       "text": [
        "\n",
        "u\"word 'saloon' not in vocabulary\"\n",
        "exceptions must be old-style classes or derived from BaseException, not str"
       ]
      },
      {
       "output_type": "stream",
       "stream": "stdout",
       "text": [
        "\n",
        "u\"word 'brevity' not in vocabulary\""
       ]
      },
      {
       "output_type": "stream",
       "stream": "stdout",
       "text": [
        "\n",
        "u\"word 's' not in vocabulary\""
       ]
      },
      {
       "output_type": "stream",
       "stream": "stdout",
       "text": [
        "\n",
        "u\"word 'saloon' not in vocabulary\""
       ]
      },
      {
       "output_type": "stream",
       "stream": "stdout",
       "text": [
        "\n",
        "u\"word 'nose' not in vocabulary\""
       ]
      },
      {
       "output_type": "stream",
       "stream": "stdout",
       "text": [
        "\n",
        "u\"word 'self-sufficiency' not in vocabulary\"\n",
        "u\"word 'missent' not in vocabulary\""
       ]
      },
      {
       "output_type": "stream",
       "stream": "stdout",
       "text": [
        "\n",
        "u\"word 'missent' not in vocabulary\""
       ]
      },
      {
       "output_type": "stream",
       "stream": "stdout",
       "text": [
        "\n",
        "u\"word 'hackney' not in vocabulary\""
       ]
      },
      {
       "output_type": "stream",
       "stream": "stdout",
       "text": [
        "\n",
        "u\"word 'exigence' not in vocabulary\""
       ]
      },
      {
       "output_type": "stream",
       "stream": "stdout",
       "text": [
        "\n",
        "u\"word 'commiseration' not in vocabulary\""
       ]
      },
      {
       "output_type": "stream",
       "stream": "stdout",
       "text": [
        "\n",
        "u\"word 'half-an-hour' not in vocabulary\""
       ]
      },
      {
       "output_type": "stream",
       "stream": "stdout",
       "text": [
        "\n",
        "u\"word 'self-conquest' not in vocabulary\""
       ]
      },
      {
       "output_type": "stream",
       "stream": "stdout",
       "text": [
        "\n",
        "u\"word 'consolatory' not in vocabulary\"\n",
        "u\"word 'palliation' not in vocabulary\"\n",
        "u\"word 'to-day' not in vocabulary\""
       ]
      },
      {
       "output_type": "stream",
       "stream": "stdout",
       "text": [
        "\n",
        "u\"word 'retrospective' not in vocabulary\""
       ]
      },
      {
       "output_type": "stream",
       "stream": "stdout",
       "text": [
        "\n",
        "u\"word 'termination' not in vocabulary\"\n",
        "u\"word 'prey' not in vocabulary\""
       ]
      },
      {
       "output_type": "stream",
       "stream": "stdout",
       "text": [
        "\n",
        "u\"word 'postscript' not in vocabulary\""
       ]
      },
      {
       "output_type": "stream",
       "stream": "stdout",
       "text": [
        "\n",
        "u\"word 'friendless' not in vocabulary\""
       ]
      },
      {
       "output_type": "stream",
       "stream": "stdout",
       "text": [
        "\n",
        "u\"word 'violation' not in vocabulary\""
       ]
      },
      {
       "output_type": "stream",
       "stream": "stdout",
       "text": [
        "\n",
        "u\"word 'decency' not in vocabulary\"\n",
        "u\"word 'hackney' not in vocabulary\""
       ]
      },
      {
       "output_type": "stream",
       "stream": "stdout",
       "text": [
        "\n",
        "u\"word 'decency' not in vocabulary\""
       ]
      },
      {
       "output_type": "stream",
       "stream": "stdout",
       "text": [
        "\n",
        "u\"word 'susceptibility' not in vocabulary\""
       ]
      },
      {
       "output_type": "stream",
       "stream": "stdout",
       "text": [
        "\n",
        "u\"word 'self-reproach' not in vocabulary\""
       ]
      },
      {
       "output_type": "stream",
       "stream": "stdout",
       "text": [
        "\n",
        "u\"word 'forgetfulness' not in vocabulary\"\n",
        "u\"word 'paddock' not in vocabulary\""
       ]
      },
      {
       "output_type": "stream",
       "stream": "stdout",
       "text": [
        "\n",
        "u\"word 'dressing-room' not in vocabulary\""
       ]
      },
      {
       "output_type": "stream",
       "stream": "stdout",
       "text": [
        "\n",
        "u\"word 'drawing-room' not in vocabulary\""
       ]
      },
      {
       "output_type": "stream",
       "stream": "stdout",
       "text": [
        "\n",
        "u\"word 'ill-usage' not in vocabulary\""
       ]
      },
      {
       "output_type": "stream",
       "stream": "stdout",
       "text": [
        "\n",
        "u\"word 'dining-room' not in vocabulary\""
       ]
      },
      {
       "output_type": "stream",
       "stream": "stdout",
       "text": [
        "\n",
        "u\"word 'toilette' not in vocabulary\"\n",
        "u\"word 'fretfulness' not in vocabulary\"\n",
        "u\"word 'tide' not in vocabulary\""
       ]
      },
      {
       "output_type": "stream",
       "stream": "stdout",
       "text": [
        "\n",
        "u\"word 'pour' not in vocabulary\"\n",
        "u\"word 'balm' not in vocabulary\"\n",
        "u\"word 'half-an-hour' not in vocabulary\""
       ]
      },
      {
       "output_type": "stream",
       "stream": "stdout",
       "text": [
        "\n",
        "u\"word 'sequel' not in vocabulary\"\n",
        "u\"word 'slit' not in vocabulary\""
       ]
      },
      {
       "output_type": "stream",
       "stream": "stdout",
       "text": [
        "\n",
        "u\"word 'hackney' not in vocabulary\""
       ]
      },
      {
       "output_type": "stream",
       "stream": "stdout",
       "text": [
        "\n",
        "exceptions must be old-style classes or derived from BaseException, not str\n",
        "u\"word 'duel' not in vocabulary\""
       ]
      },
      {
       "output_type": "stream",
       "stream": "stdout",
       "text": [
        "\n",
        "u\"word 'irregularity' not in vocabulary\""
       ]
      },
      {
       "output_type": "stream",
       "stream": "stdout",
       "text": [
        "\n",
        "u\"word 'tradesman' not in vocabulary\"\n",
        "u\"word 'title' not in vocabulary\"\n",
        "u\"word 'seduction' not in vocabulary\"\n",
        "u\"word 'tradesman' not in vocabulary\"\n",
        "u\"word 'postscript' not in vocabulary\""
       ]
      },
      {
       "output_type": "stream",
       "stream": "stdout",
       "text": [
        "\n",
        "u\"word 'clue' not in vocabulary\""
       ]
      },
      {
       "output_type": "stream",
       "stream": "stdout",
       "text": [
        "\n",
        "u\"word 'licentiousness' not in vocabulary\""
       ]
      },
      {
       "output_type": "stream",
       "stream": "stdout",
       "text": [
        "\n",
        "u\"word 'enormity' not in vocabulary\""
       ]
      },
      {
       "output_type": "stream",
       "stream": "stdout",
       "text": [
        "\n",
        "u\"word 'offense' not in vocabulary\""
       ]
      },
      {
       "output_type": "stream",
       "stream": "stdout",
       "text": [
        "\n",
        "u\"word 'etc.' not in vocabulary\"\n",
        "u\"word 'gaming' not in vocabulary\""
       ]
      },
      {
       "output_type": "stream",
       "stream": "stdout",
       "text": [
        "\n",
        "u\"word 'gamester' not in vocabulary\"\n",
        "u\"word 'ill-success' not in vocabulary\""
       ]
      },
      {
       "output_type": "stream",
       "stream": "stdout",
       "text": [
        "\n",
        "u\"word 'brother-in-law' not in vocabulary\"\n",
        "u\"word 'half-expectation' not in vocabulary\""
       ]
      },
      {
       "output_type": "stream",
       "stream": "stdout",
       "text": [
        "\n",
        "u\"word 'lowness' not in vocabulary\"\n",
        "u\"word 'drily' not in vocabulary\""
       ]
      },
      {
       "output_type": "stream",
       "stream": "stdout",
       "text": [
        "\n",
        "u\"word 'ill-will' not in vocabulary\"\n",
        "u\"word 'nightcap' not in vocabulary\""
       ]
      },
      {
       "output_type": "stream",
       "stream": "stdout",
       "text": [
        "\n",
        "u\"word 'eastbourne' not in vocabulary\""
       ]
      },
      {
       "output_type": "stream",
       "stream": "stdout",
       "text": [
        "\n",
        "u\"word 'half-hour' not in vocabulary\""
       ]
      },
      {
       "output_type": "stream",
       "stream": "stdout",
       "text": [
        "\n",
        "u\"word 'breakfast-room' not in vocabulary\"\n",
        "u\"word 'ma'am' not in vocabulary\""
       ]
      },
      {
       "output_type": "stream",
       "stream": "stdout",
       "text": [
        "\n",
        "u\"word 'copse' not in vocabulary\"\n",
        "u\"word 'paddock' not in vocabulary\"\n",
        "u\"word 'settlement' not in vocabulary\""
       ]
      },
      {
       "output_type": "stream",
       "stream": "stdout",
       "text": [
        "\n",
        "u\"word 'annum' not in vocabulary\"\n",
        "u\"word 'settlement' not in vocabulary\""
       ]
      },
      {
       "output_type": "stream",
       "stream": "stdout",
       "text": [
        "\n",
        "u\"word 'to-day' not in vocabulary\"\n",
        "u\"word 'etc.' not in vocabulary\"\n",
        "u\"word 'breakfast-room' not in vocabulary\""
       ]
      },
      {
       "output_type": "stream",
       "stream": "stdout",
       "text": [
        "\n",
        "u\"word 'sixpence' not in vocabulary\""
       ]
      },
      {
       "output_type": "stream",
       "stream": "stdout",
       "text": [
        "\n",
        "u\"word 'writing-table' not in vocabulary\""
       ]
      },
      {
       "output_type": "stream",
       "stream": "stdout",
       "text": [
        "\n",
        "u\"word 'exuberance' not in vocabulary\"\n",
        "u\"word 'fidgety' not in vocabulary\"\n",
        "u\"word 'bowl' not in vocabulary\""
       ]
      },
      {
       "output_type": "stream",
       "stream": "stdout",
       "text": [
        "\n",
        "u\"word 'punch' not in vocabulary\"\n",
        "u\"word 'refuge' not in vocabulary\"\n",
        "u\"word 'brother-in-law' not in vocabulary\""
       ]
      },
      {
       "output_type": "stream",
       "stream": "stdout",
       "text": [
        "\n",
        "u\"word 'dilatory' not in vocabulary\""
       ]
      },
      {
       "output_type": "stream",
       "stream": "stdout",
       "text": [
        "\n",
        "u\"word 'farmhouse' not in vocabulary\""
       ]
      },
      {
       "output_type": "stream",
       "stream": "stdout",
       "text": [
        "\n",
        "u\"word 'well-doing' not in vocabulary\"\n",
        "u\"word 'drawing-room' not in vocabulary\""
       ]
      },
      {
       "output_type": "stream",
       "stream": "stdout",
       "text": [
        "\n",
        "u\"word 'admittance' not in vocabulary\"\n",
        "u\"word 'guinea' not in vocabulary\""
       ]
      },
      {
       "output_type": "stream",
       "stream": "stdout",
       "text": [
        "\n",
        "u\"word 'termination' not in vocabulary\""
       ]
      },
      {
       "output_type": "stream",
       "stream": "stdout",
       "text": [
        "\n",
        "u\"word 'frailty' not in vocabulary\""
       ]
      },
      {
       "output_type": "stream",
       "stream": "stdout",
       "text": [
        "\n",
        "u\"word 'gulf' not in vocabulary\"\n",
        "u\"word 'survive' not in vocabulary\""
       ]
      },
      {
       "output_type": "stream",
       "stream": "stdout",
       "text": [
        "\n",
        "u\"word 'multitude' not in vocabulary\""
       ]
      },
      {
       "output_type": "stream",
       "stream": "stdout",
       "text": [
        "\n",
        "u\"word 's.' not in vocabulary\""
       ]
      },
      {
       "output_type": "stream",
       "stream": "stdout",
       "text": [
        "\n",
        "u\"word 'ensigncy' not in vocabulary\"\n",
        "u\"word 'etc.' not in vocabulary\""
       ]
      },
      {
       "output_type": "stream",
       "stream": "stdout",
       "text": [
        "\n",
        "u\"word 'dinner-time' not in vocabulary\""
       ]
      },
      {
       "output_type": "stream",
       "stream": "stdout",
       "text": [
        "\n",
        "u\"word 'culprit' not in vocabulary\"\n",
        "exceptions must be old-style classes or derived from BaseException, not str"
       ]
      },
      {
       "output_type": "stream",
       "stream": "stdout",
       "text": [
        "\n",
        "u\"word 'austerity' not in vocabulary\""
       ]
      },
      {
       "output_type": "stream",
       "stream": "stdout",
       "text": [
        "\n",
        "u\"word 'to-day' not in vocabulary\""
       ]
      },
      {
       "output_type": "stream",
       "stream": "stdout",
       "text": [
        "\n",
        "u\"word 'side-glass' not in vocabulary\"\n",
        "u\"word 'glove' not in vocabulary\"\n",
        "u\"word 'competition' not in vocabulary\""
       ]
      },
      {
       "output_type": "stream",
       "stream": "stdout",
       "text": [
        "\n",
        "u\"word 's' not in vocabulary\""
       ]
      },
      {
       "output_type": "stream",
       "stream": "stdout",
       "text": [
        "\n",
        "u\"word 'copse' not in vocabulary\""
       ]
      },
      {
       "output_type": "stream",
       "stream": "stdout",
       "text": [
        "\n",
        "u\"word 'worthlessness' not in vocabulary\""
       ]
      },
      {
       "output_type": "stream",
       "stream": "stdout",
       "text": [
        "\n",
        "exceptions must be old-style classes or derived from BaseException, not str"
       ]
      },
      {
       "output_type": "stream",
       "stream": "stdout",
       "text": [
        "\n",
        "u\"word 'bribery' not in vocabulary\"\n",
        "u\"word 'corruption' not in vocabulary\"\n",
        "exceptions must be old-style classes or derived from BaseException, not str"
       ]
      },
      {
       "output_type": "stream",
       "stream": "stdout",
       "text": [
        "\n",
        "u\"word 'grain' not in vocabulary\"\n",
        "u\"word 'admission' not in vocabulary\""
       ]
      },
      {
       "output_type": "stream",
       "stream": "stdout",
       "text": [
        "\n",
        "u\"word 'slyness' not in vocabulary\""
       ]
      },
      {
       "output_type": "stream",
       "stream": "stdout",
       "text": [
        "\n",
        "u\"word 'research' not in vocabulary\""
       ]
      },
      {
       "output_type": "stream",
       "stream": "stdout",
       "text": [
        "\n",
        "u\"word 'brother-in-law' not in vocabulary\""
       ]
      },
      {
       "output_type": "stream",
       "stream": "stdout",
       "text": [
        "\n",
        "u\"word 'revolt' not in vocabulary\"\n",
        "u\"word 'restoration' not in vocabulary\""
       ]
      },
      {
       "output_type": "stream",
       "stream": "stdout",
       "text": [
        "\n",
        "u\"word 'sermon-making' not in vocabulary\""
       ]
      },
      {
       "output_type": "stream",
       "stream": "stdout",
       "text": [
        "\n",
        "u\"word 's.' not in vocabulary\""
       ]
      },
      {
       "output_type": "stream",
       "stream": "stdout",
       "text": [
        "\n",
        "u\"word 'son-in-law' not in vocabulary\"\n",
        "u\"word 'circulation' not in vocabulary\""
       ]
      },
      {
       "output_type": "stream",
       "stream": "stdout",
       "text": [
        "\n",
        "u\"word 's' not in vocabulary\""
       ]
      },
      {
       "output_type": "stream",
       "stream": "stdout",
       "text": [
        "\n",
        "u\"word 'to-day' not in vocabulary\""
       ]
      },
      {
       "output_type": "stream",
       "stream": "stdout",
       "text": [
        "\n",
        "u\"word 'etiquette' not in vocabulary\""
       ]
      },
      {
       "output_type": "stream",
       "stream": "stdout",
       "text": [
        "\n",
        "u\"word 'fretfulness' not in vocabulary\""
       ]
      },
      {
       "output_type": "stream",
       "stream": "stdout",
       "text": [
        "\n",
        "u\"word 'dressing-room' not in vocabulary\"\n",
        "u\"word 'paddock' not in vocabulary\"\n",
        "u\"word 'vow' not in vocabulary\""
       ]
      },
      {
       "output_type": "stream",
       "stream": "stdout",
       "text": [
        "\n",
        "u\"word 'lustre' not in vocabulary\""
       ]
      },
      {
       "output_type": "stream",
       "stream": "stdout",
       "text": [
        "\n",
        "u\"word 'paler' not in vocabulary\""
       ]
      },
      {
       "output_type": "stream",
       "stream": "stdout",
       "text": [
        "\n",
        "u\"word 'preservation' not in vocabulary\""
       ]
      },
      {
       "output_type": "stream",
       "stream": "stdout",
       "text": [
        "\n",
        "u\"word 'manor' not in vocabulary\""
       ]
      },
      {
       "output_type": "stream",
       "stream": "stdout",
       "text": [
        "\n",
        "u\"word 'compensation' not in vocabulary\""
       ]
      },
      {
       "output_type": "stream",
       "stream": "stdout",
       "text": [
        "\n",
        "u\"word 'dining-room' not in vocabulary\""
       ]
      },
      {
       "output_type": "stream",
       "stream": "stdout",
       "text": [
        "\n",
        "u\"word 'ungraciousness' not in vocabulary\""
       ]
      },
      {
       "output_type": "stream",
       "stream": "stdout",
       "text": [
        "\n",
        "u\"word 'drawing-room' not in vocabulary\""
       ]
      },
      {
       "output_type": "stream",
       "stream": "stdout",
       "text": [
        "\n",
        "u\"word 'confederacy' not in vocabulary\""
       ]
      },
      {
       "output_type": "stream",
       "stream": "stdout",
       "text": [
        "\n",
        "u\"word 'vacancy' not in vocabulary\"\n",
        "u\"word 'cup' not in vocabulary\""
       ]
      },
      {
       "output_type": "stream",
       "stream": "stdout",
       "text": [
        "\n",
        "exceptions must be old-style classes or derived from BaseException, not str"
       ]
      },
      {
       "output_type": "stream",
       "stream": "stdout",
       "text": [
        "\n",
        "u\"word 'victim' not in vocabulary\""
       ]
      },
      {
       "output_type": "stream",
       "stream": "stdout",
       "text": [
        "\n",
        "u\"word 'rapacity' not in vocabulary\"\n",
        "u\"word 'venison' not in vocabulary\""
       ]
      },
      {
       "output_type": "stream",
       "stream": "stdout",
       "text": [
        "\n",
        "u\"word 'haunch' not in vocabulary\"\n",
        "u\"word 'hang' not in vocabulary\""
       ]
      },
      {
       "output_type": "stream",
       "stream": "stdout",
       "text": [
        "\n",
        "u\"word 'sash' not in vocabulary\"\n",
        "u\"word 'wink' not in vocabulary\""
       ]
      },
      {
       "output_type": "stream",
       "stream": "stdout",
       "text": [
        "\n",
        "u\"word 'premeditation' not in vocabulary\""
       ]
      },
      {
       "output_type": "stream",
       "stream": "stdout",
       "text": [
        "\n",
        "u\"word 'dressing-room' not in vocabulary\""
       ]
      },
      {
       "output_type": "stream",
       "stream": "stdout",
       "text": [
        "\n",
        "u\"word 'drawing-room' not in vocabulary\"\n",
        "u\"word 'officiousness' not in vocabulary\""
       ]
      },
      {
       "output_type": "stream",
       "stream": "stdout",
       "text": [
        "\n",
        "u\"word 'drawing-room' not in vocabulary\""
       ]
      },
      {
       "output_type": "stream",
       "stream": "stdout",
       "text": [
        "\n",
        "u\"word 'hearth' not in vocabulary\"\n",
        "u\"word 'circumspection' not in vocabulary\""
       ]
      },
      {
       "output_type": "stream",
       "stream": "stdout",
       "text": [
        "\n",
        "u\"word 'super-excellent' not in vocabulary\""
       ]
      },
      {
       "output_type": "stream",
       "stream": "stdout",
       "text": [
        "\n",
        "u\"word 'wink' not in vocabulary\""
       ]
      },
      {
       "output_type": "stream",
       "stream": "stdout",
       "text": [
        "\n",
        "u\"word 'competition' not in vocabulary\"\n",
        "u\"word 'panegyric' not in vocabulary\""
       ]
      },
      {
       "output_type": "stream",
       "stream": "stdout",
       "text": [
        "\n",
        "u\"word 'dining-room' not in vocabulary\""
       ]
      },
      {
       "output_type": "stream",
       "stream": "stdout",
       "text": [
        "\n",
        "exceptions must be old-style classes or derived from BaseException, not str"
       ]
      },
      {
       "output_type": "stream",
       "stream": "stdout",
       "text": [
        "\n",
        "exceptions must be old-style classes or derived from BaseException, not str"
       ]
      },
      {
       "output_type": "stream",
       "stream": "stdout",
       "text": [
        "\n",
        "u\"word 's.' not in vocabulary\"\n",
        "u\"word 'hermitage' not in vocabulary\""
       ]
      },
      {
       "output_type": "stream",
       "stream": "stdout",
       "text": [
        "\n",
        "u\"word 'parasol' not in vocabulary\"\n",
        "u\"word 'dining-parlour' not in vocabulary\"\n",
        "u\"word 'drawing-room' not in vocabulary\"\n",
        "u\"word 'waiting-woman' not in vocabulary\""
       ]
      },
      {
       "output_type": "stream",
       "stream": "stdout",
       "text": [
        "\n",
        "u\"word 'copse' not in vocabulary\"\n",
        "u\"word 'copse' not in vocabulary\""
       ]
      },
      {
       "output_type": "stream",
       "stream": "stdout",
       "text": [
        "\n",
        "u\"word 's' not in vocabulary\""
       ]
      },
      {
       "output_type": "stream",
       "stream": "stdout",
       "text": [
        "\n",
        "u\"word 'member' not in vocabulary\"\n",
        "u\"word 'upstart' not in vocabulary\"\n",
        "u\"word 'sphere' not in vocabulary\"\n",
        "u\"word 'sphere' not in vocabulary\"\n",
        "u\"word 'expence' not in vocabulary\""
       ]
      },
      {
       "output_type": "stream",
       "stream": "stdout",
       "text": [
        "\n",
        "u\"word 'scorn' not in vocabulary\""
       ]
      },
      {
       "output_type": "stream",
       "stream": "stdout",
       "text": [
        "\n",
        "u\"word 'dressing-room' not in vocabulary\""
       ]
      },
      {
       "output_type": "stream",
       "stream": "stdout",
       "text": [
        "\n",
        "u\"word 'discomposure' not in vocabulary\""
       ]
      },
      {
       "output_type": "stream",
       "stream": "stdout",
       "text": [
        "\n",
        "u\"word 'brink' not in vocabulary\""
       ]
      },
      {
       "output_type": "stream",
       "stream": "stdout",
       "text": [
        "\n",
        "u\"word 'closure' not in vocabulary\""
       ]
      },
      {
       "output_type": "stream",
       "stream": "stdout",
       "text": [
        "\n",
        "u\"word 'blemish' not in vocabulary\""
       ]
      },
      {
       "output_type": "stream",
       "stream": "stdout",
       "text": [
        "\n",
        "u\"word 'pleasantry' not in vocabulary\"\n",
        "u\"word 'speediest' not in vocabulary\""
       ]
      },
      {
       "output_type": "stream",
       "stream": "stdout",
       "text": [
        "\n",
        "u\"word 'rector' not in vocabulary\""
       ]
      },
      {
       "output_type": "stream",
       "stream": "stdout",
       "text": [
        "\n",
        "u\"word 'olive-branch' not in vocabulary\"\n",
        "u\"word 'hypocrisy' not in vocabulary\""
       ]
      },
      {
       "output_type": "stream",
       "stream": "stdout",
       "text": [
        "\n",
        "u\"word 'son-in-law' not in vocabulary\"\n",
        "u\"word 'preservation' not in vocabulary\""
       ]
      },
      {
       "output_type": "stream",
       "stream": "stdout",
       "text": [
        "\n",
        "u\"word 'a-shooting' not in vocabulary\""
       ]
      },
      {
       "output_type": "stream",
       "stream": "stdout",
       "text": [
        "\n",
        "u\"word 'epithet' not in vocabulary\"\n",
        "u\"word 'to-day' not in vocabulary\""
       ]
      },
      {
       "output_type": "stream",
       "stream": "stdout",
       "text": [
        "\n",
        "u\"word 's.' not in vocabulary\""
       ]
      },
      {
       "output_type": "stream",
       "stream": "stdout",
       "text": [
        "\n",
        "u\"word 'vehemence' not in vocabulary\"\n",
        "u\"word 'dressing-room' not in vocabulary\""
       ]
      },
      {
       "output_type": "stream",
       "stream": "stdout",
       "text": [
        "\n",
        "u\"word 'pin-money' not in vocabulary\""
       ]
      },
      {
       "output_type": "stream",
       "stream": "stdout",
       "text": [
        "\n",
        "u\"word 'licence' not in vocabulary\""
       ]
      },
      {
       "output_type": "stream",
       "stream": "stdout",
       "text": [
        "\n",
        "u\"word 'licence' not in vocabulary\"\n",
        "u\"word 'omen' not in vocabulary\"\n",
        "u\"word 'son-in-law' not in vocabulary\""
       ]
      },
      {
       "output_type": "stream",
       "stream": "stdout",
       "text": [
        "\n",
        "u\"word 's.' not in vocabulary\""
       ]
      },
      {
       "output_type": "stream",
       "stream": "stdout",
       "text": [
        "\n",
        "u\"word 'accounting' not in vocabulary\""
       ]
      },
      {
       "output_type": "stream",
       "stream": "stdout",
       "text": [
        "\n",
        "u\"word 'i.' not in vocabulary\""
       ]
      },
      {
       "output_type": "stream",
       "stream": "stdout",
       "text": [
        "\n",
        "u\"word 'evenness' not in vocabulary\""
       ]
      },
      {
       "output_type": "stream",
       "stream": "stdout",
       "text": [
        "\n",
        "exceptions must be old-style classes or derived from BaseException, not str\n",
        "u\"word 'loose' not in vocabulary\""
       ]
      },
      {
       "output_type": "stream",
       "stream": "stdout",
       "text": [
        "\n",
        "u\"word 'rein' not in vocabulary\"\n",
        "u\"word 'jewel' not in vocabulary\""
       ]
      },
      {
       "output_type": "stream",
       "stream": "stdout",
       "text": [
        "\n",
        "u\"word 's' not in vocabulary\"\n",
        "u\"word 'revolution' not in vocabulary\""
       ]
      },
      {
       "output_type": "stream",
       "stream": "stdout",
       "text": [
        "\n",
        "u\"word 'restoration' not in vocabulary\""
       ]
      },
      {
       "output_type": "stream",
       "stream": "stdout",
       "text": [
        "\n",
        "u\"word 'arrear' not in vocabulary\""
       ]
      },
      {
       "output_type": "stream",
       "stream": "stdout",
       "text": [
        "\n",
        "u\"word 'pleasantry' not in vocabulary\""
       ]
      },
      {
       "output_type": "stream",
       "stream": "stdout",
       "text": [
        "\n",
        "u\"word 'pollution' not in vocabulary\""
       ]
      },
      {
       "output_type": "stream",
       "stream": "stdout",
       "text": [
        "\n",
        "u\"word 'city' not in vocabulary\"\n",
        "Wrote out to data directory:"
       ]
      },
      {
       "output_type": "stream",
       "stream": "stdout",
       "text": [
        " data/pride_NNAll_labeled.txt data/pride_NNAll_data.json\n",
        "Wrote "
       ]
      },
      {
       "output_type": "stream",
       "stream": "stdout",
       "text": [
        " <closed file 'data/pride_NNAll_scores.csv', mode 'w' at 0x10ea17810> <closed file 'data/pride_NNAll_words.csv', mode 'w' at 0x10b12b030>\n",
        "Preprocessing the data using PCA..."
       ]
      },
      {
       "output_type": "stream",
       "stream": "stdout",
       "text": [
        "\n",
        "Computing pairwise distances...\n",
        "Computing P-values for point "
       ]
      }
     ]
    },
    {
     "cell_type": "code",
     "collapsed": false,
     "input": [
      "model = gensim.models.Word2Vec.load('data/pride_NN_model_austen_all')"
     ],
     "language": "python",
     "metadata": {},
     "outputs": [],
     "prompt_number": 171
    },
    {
     "cell_type": "heading",
     "level": 4,
     "metadata": {},
     "source": [
      "Play with your model if you want... "
     ]
    },
    {
     "cell_type": "code",
     "collapsed": false,
     "input": [
      "model.most_similar(['wife'])"
     ],
     "language": "python",
     "metadata": {},
     "outputs": [
      {
       "metadata": {},
       "output_type": "pyout",
       "prompt_number": 214,
       "text": [
        "[(u'man', 0.9352735280990601),\n",
        " (u'girl', 0.9345774054527283),\n",
        " (u'thing', 0.9321523904800415),\n",
        " (u'doubt', 0.9316002130508423),\n",
        " (u'happiness', 0.9314476251602173),\n",
        " (u'marriage', 0.9307377338409424),\n",
        " (u'brother', 0.9300790429115295),\n",
        " (u'end', 0.9297640919685364),\n",
        " (u'place', 0.9297305941581726),\n",
        " (u'everything', 0.9295379519462585)]"
       ]
      }
     ],
     "prompt_number": 214
    },
    {
     "cell_type": "code",
     "collapsed": false,
     "input": [
      "model.most_similar(['husband'])"
     ],
     "language": "python",
     "metadata": {},
     "outputs": [
      {
       "metadata": {},
       "output_type": "pyout",
       "prompt_number": 215,
       "text": [
        "[(u'brother', 0.9805606007575989),\n",
        " (u'affection', 0.978991687297821),\n",
        " (u'sister', 0.9786075353622437),\n",
        " (u'friend', 0.9781872034072876),\n",
        " (u'time', 0.9781115055084229),\n",
        " (u'aunt', 0.9776458740234375),\n",
        " (u'family', 0.977620005607605),\n",
        " (u'course', 0.9774074554443359),\n",
        " (u'man', 0.9767915606498718),\n",
        " (u'happiness', 0.9764370918273926)]"
       ]
      }
     ],
     "prompt_number": 215
    },
    {
     "cell_type": "heading",
     "level": 4,
     "metadata": {},
     "source": [
      "Do the file splitting part for the UI"
     ]
    },
    {
     "cell_type": "code",
     "collapsed": false,
     "input": [
      "!split -l 200 data/pride_NN_labeled.txt part"
     ],
     "language": "python",
     "metadata": {},
     "outputs": [],
     "prompt_number": 193
    },
    {
     "cell_type": "code",
     "collapsed": false,
     "input": [
      "%%bash\n",
      "mv partaa data/parts/part1.txt\n",
      "mv partab data/parts/part2.txt\n",
      "mv partac data/parts/part3.txt\n",
      "mv partad data/parts/part4.txt\n",
      "mv partae data/parts/part5.txt\n",
      "mv partaf data/parts/part6.txt\n",
      "mv partag data/parts/part7.txt\n",
      "mv partah data/parts/part8.txt\n",
      "mv partai data/parts/part9.txt\n",
      "mv partaj data/parts/part10.txt\n",
      "mv partak data/parts/part11.txt\n",
      "mv partal data/parts/part12.txt"
     ],
     "language": "python",
     "metadata": {},
     "outputs": [],
     "prompt_number": 194
    },
    {
     "cell_type": "code",
     "collapsed": false,
     "input": [
      "ls data/parts"
     ],
     "language": "python",
     "metadata": {},
     "outputs": [
      {
       "output_type": "stream",
       "stream": "stdout",
       "text": [
        "part1.txt   part11.txt  part2.txt   part4.txt   part6.txt   part8.txt\r\n",
        "part10.txt  part12.txt  part3.txt   part5.txt   part7.txt   part9.txt\r\n"
       ]
      }
     ],
     "prompt_number": 188
    },
    {
     "cell_type": "heading",
     "level": 3,
     "metadata": {},
     "source": [
      "TSNE Plotting Stuff"
     ]
    },
    {
     "cell_type": "code",
     "collapsed": false,
     "input": [
      "# for tsne - write out the scores and labels as 2 row syncd files - can be used in R now.\n",
      "\n",
      "def make_score_files(model, datadict, filelabel):\n",
      "    with open(filelabel + '_scores.csv', 'w') as scorefile:\n",
      "        with open(filelabel + '_words.csv', 'w') as wordfile:\n",
      "            for word in datadict.keys():\n",
      "                try:\n",
      "                    score = model[word.lower()]\n",
      "                    scores = [str(x) for x in score]\n",
      "                    scorefile.write('\\t'.join(scores) + '\\n')\n",
      "                    wordfile.write(word.lower() + '\\n')\n",
      "                except:\n",
      "                    print \"Not found:\", word, datadict[word]\n",
      "                    continue\n",
      "            scorefile.write('\\n')\n",
      "            wordfile.write('\\n')\n",
      "    print 'Wrote ', scorefile, wordfile"
     ],
     "language": "python",
     "metadata": {},
     "outputs": [],
     "prompt_number": 35
    },
    {
     "cell_type": "code",
     "collapsed": false,
     "input": [
      "!paste data/pride_NN_words.csv data/pride_NN_scores.csv > data_for_r.tsv"
     ],
     "language": "python",
     "metadata": {},
     "outputs": [],
     "prompt_number": 52
    },
    {
     "cell_type": "heading",
     "level": 4,
     "metadata": {},
     "source": [
      "The scores and words csv files you just wrote out can be used in the R code in the repo, if you want to try that for the plot instead."
     ]
    },
    {
     "cell_type": "code",
     "collapsed": false,
     "input": [
      "# this is a function you can call independently with output from your run-all run, to jigger with details if you want.\n",
      "\n",
      "def do_tsne_files(coordsfilename, Y, labels, datadict, axis_off=True):\n",
      "    \"\"\" Makes the tsne grah file and writes out the coords for the UI. \"\"\"\n",
      "    plt.figure(figsize=(15, 15))\n",
      "    if axis_off:\n",
      "        plt.axis('off')   # only turn off after checking the axis min/max\n",
      "    plt.scatter(Y[:,0], Y[:,1], s=10, color='gray', alpha=0.2)\n",
      "    print \"X and Y dims \", plt.axis()\n",
      "    with open(coordsfilename, 'w') as handle1:\n",
      "        handle1.write('word\\tx\\ty\\tnearest\\n')\n",
      "        for label, x, y in zip(labels, Y[:, 0], Y[:, 1]):\n",
      "            score = datadict[label]['score']\n",
      "            handle1.write('\\t'.join([label, str(x), str(y), str(score)]) + '\\n')\n",
      "            #plt.text(x, y, label, size=8, alpha=0.5)\n",
      "    print \"wrote out\", coordsfilename"
     ],
     "language": "python",
     "metadata": {},
     "outputs": [],
     "prompt_number": 204
    },
    {
     "cell_type": "code",
     "collapsed": false,
     "input": [
      "do_tsne_files('misc.tsv', Y, labels, datadict)   # run this again with axis on, to check axes limits for the graph..."
     ],
     "language": "python",
     "metadata": {},
     "outputs": [
      {
       "output_type": "stream",
       "stream": "stdout",
       "text": [
        "X and Y dims  (-150.0, 100.0, -150.0, 150.0)\n",
        "wrote out misc.tsv\n"
       ]
      },
      {
       "metadata": {},
       "output_type": "display_data",
       "png": "[encoded data removed]",
       "text": [
        "<matplotlib.figure.Figure at 0x10f8dda50>"
       ]
      }
     ],
     "prompt_number": 205
    },
    {
     "cell_type": "code",
     "collapsed": false,
     "input": [
      "class DirOfPlainTextCorpus(object):\n",
      "    \"\"\"Iterate over sentences of all plaintext files in a directory \"\"\"\n",
      "    SPLIT_SENTENCES = re.compile(u\"[.!?:]\\s+\")  # split sentences on these characters\n",
      "\n",
      "    def __init__(self, dirname):\n",
      "        self.dirname = dirname\n",
      "\n",
      "    def __iter__(self):\n",
      "        for fn in os.listdir(self.dirname):\n",
      "            text = open(os.path.join(self.dirname, fn)).read()\n",
      "            for sentence in self.SPLIT_SENTENCES.split(text):\n",
      "                yield gensim.utils.simple_preprocess(sentence, deacc=True)"
     ],
     "language": "python",
     "metadata": {},
     "outputs": [],
     "prompt_number": 217
    },
    {
     "cell_type": "code",
     "collapsed": false,
     "input": [
      "model = gensim.models.Word2Vec(DirOfPlainTextCorpus('books'), min_count=5, workers=2)"
     ],
     "language": "python",
     "metadata": {},
     "outputs": [],
     "prompt_number": 218
    },
    {
     "cell_type": "code",
     "collapsed": false,
     "input": [
      "model.most_similar(['man'])"
     ],
     "language": "python",
     "metadata": {},
     "outputs": [
      {
       "metadata": {},
       "output_type": "pyout",
       "prompt_number": 221,
       "text": [
        "[(u'woman', 0.9100897908210754),\n",
        " (u'agreeable', 0.6907110810279846),\n",
        " (u'gentleman', 0.6882745623588562),\n",
        " (u'young', 0.6673860549926758),\n",
        " (u'sensible', 0.664200484752655),\n",
        " (u'fine', 0.6493625044822693),\n",
        " (u'people', 0.6466271877288818),\n",
        " (u'person', 0.6280468106269836),\n",
        " (u'men', 0.6263614892959595),\n",
        " (u'smart', 0.620888352394104)]"
       ]
      }
     ],
     "prompt_number": 221
    },
    {
     "cell_type": "code",
     "collapsed": false,
     "input": [
      "model.most_similar(['woman'])"
     ],
     "language": "python",
     "metadata": {},
     "outputs": [
      {
       "metadata": {},
       "output_type": "pyout",
       "prompt_number": 222,
       "text": [
        "[(u'man', 0.9100899696350098),\n",
        " (u'sensible', 0.736540675163269),\n",
        " (u'agreeable', 0.7090842723846436),\n",
        " (u'young', 0.707190990447998),\n",
        " (u'person', 0.6856421828269958),\n",
        " (u'people', 0.6847739219665527),\n",
        " (u'men', 0.6729732751846313),\n",
        " (u'smart', 0.6706783175468445),\n",
        " (u'fine', 0.659329891204834),\n",
        " (u'respectable', 0.6539887189865112)]"
       ]
      }
     ],
     "prompt_number": 222
    },
    {
     "cell_type": "code",
     "collapsed": false,
     "input": [],
     "language": "python",
     "metadata": {},
     "outputs": []
    }
   ],
   "metadata": {}
  }
 ]
}